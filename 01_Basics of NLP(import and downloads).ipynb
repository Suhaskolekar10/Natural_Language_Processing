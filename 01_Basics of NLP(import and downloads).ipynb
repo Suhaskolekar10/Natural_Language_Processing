{
 "cells": [
  {
   "cell_type": "code",
   "execution_count": 10,
   "id": "ff26a756",
   "metadata": {},
   "outputs": [],
   "source": [
    "# Check for all basic libraries like numpy, pandas, matplotlib, seaborn, scikit-learn, tensorflow \n",
    "# using pip install command"
   ]
  },
  {
   "cell_type": "code",
   "execution_count": 12,
   "id": "6d14d52f",
   "metadata": {},
   "outputs": [
    {
     "name": "stdout",
     "output_type": "stream",
     "text": [
      "Requirement already satisfied: nltk in /home/dai/anaconda3/envs/tensorflow_env/lib/python3.11/site-packages (3.8.1)\n",
      "Requirement already satisfied: click in /home/dai/anaconda3/envs/tensorflow_env/lib/python3.11/site-packages (from nltk) (8.1.7)\n",
      "Requirement already satisfied: joblib in /home/dai/anaconda3/envs/tensorflow_env/lib/python3.11/site-packages (from nltk) (1.3.2)\n",
      "Requirement already satisfied: regex>=2021.8.3 in /home/dai/anaconda3/envs/tensorflow_env/lib/python3.11/site-packages (from nltk) (2023.10.3)\n",
      "Requirement already satisfied: tqdm in /home/dai/anaconda3/envs/tensorflow_env/lib/python3.11/site-packages (from nltk) (4.66.1)\n"
     ]
    }
   ],
   "source": [
    "#now some basic basic import for nlp\n",
    "\n",
    "!pip install nltk -U"
   ]
  },
  {
   "cell_type": "code",
   "execution_count": 13,
   "id": "a43dd55a",
   "metadata": {},
   "outputs": [],
   "source": [
    "import nltk"
   ]
  },
  {
   "cell_type": "code",
   "execution_count": 14,
   "id": "30b6bd34",
   "metadata": {},
   "outputs": [
    {
     "name": "stderr",
     "output_type": "stream",
     "text": [
      "[nltk_data] Downloading package stopwords to /home/dai/nltk_data...\n",
      "[nltk_data]   Package stopwords is already up-to-date!\n",
      "[nltk_data] Downloading package averaged_perceptron_tagger to\n",
      "[nltk_data]     /home/dai/nltk_data...\n",
      "[nltk_data]   Package averaged_perceptron_tagger is already up-to-\n",
      "[nltk_data]       date!\n",
      "[nltk_data] Downloading package wordnet to /home/dai/nltk_data...\n",
      "[nltk_data]   Package wordnet is already up-to-date!\n",
      "[nltk_data] Downloading package omw-1.4 to /home/dai/nltk_data...\n",
      "[nltk_data] Downloading package indian to /home/dai/nltk_data...\n",
      "[nltk_data]   Package indian is already up-to-date!\n",
      "[nltk_data] Downloading package maxent_ne_chunker to\n",
      "[nltk_data]     /home/dai/nltk_data...\n",
      "[nltk_data]   Unzipping chunkers/maxent_ne_chunker.zip.\n",
      "[nltk_data] Downloading package punkt to /home/dai/nltk_data...\n",
      "[nltk_data]   Package punkt is already up-to-date!\n",
      "[nltk_data] Downloading package words to /home/dai/nltk_data...\n",
      "[nltk_data]   Package words is already up-to-date!\n"
     ]
    },
    {
     "data": {
      "text/plain": [
       "True"
      ]
     },
     "execution_count": 14,
     "metadata": {},
     "output_type": "execute_result"
    }
   ],
   "source": [
    "#now basic packages download  \n",
    "\n",
    "# you can download any package using simple command nltk.download(\"package_name\")\n",
    "\n",
    "nltk.download('stopwords')\n",
    "nltk.download('averaged_perceptron_tagger')\n",
    "nltk.download('wordnet')\n",
    "nltk.download('omw-1.4')\n",
    "nltk.download('indian')\n",
    "nltk.download('maxent_ne_chunker')\n",
    "nltk.download('punkt')\n",
    "nltk.download('words')"
   ]
  },
  {
   "cell_type": "markdown",
   "id": "100d517a",
   "metadata": {},
   "source": [
    "## Basic example"
   ]
  },
  {
   "cell_type": "code",
   "execution_count": 31,
   "id": "e6d856ae",
   "metadata": {},
   "outputs": [
    {
     "data": {
      "text/plain": [
       "['They',\n",
       " 'told',\n",
       " 'that',\n",
       " 'their',\n",
       " 'ages',\n",
       " 'are',\n",
       " '25',\n",
       " '26',\n",
       " 'and',\n",
       " '31',\n",
       " 'respectively']"
      ]
     },
     "execution_count": 31,
     "metadata": {},
     "output_type": "execute_result"
    }
   ],
   "source": [
    "# Find the average of the ages mentioned in the given sentence\n",
    "\n",
    "import numpy as np\n",
    "\n",
    "sent = 'They told that their ages are 25 26 and 31 respectively'\n",
    "\n",
    "lst = sent.split()            #it will split the string at white character(space)\n",
    "\n",
    "lst"
   ]
  },
  {
   "cell_type": "code",
   "execution_count": 32,
   "id": "1677c82d",
   "metadata": {},
   "outputs": [
    {
     "data": {
      "text/plain": [
       "['25', '26', '31']"
      ]
     },
     "execution_count": 32,
     "metadata": {},
     "output_type": "execute_result"
    }
   ],
   "source": [
    "age = []\n",
    "for word in lst:\n",
    "    if word.isdigit():\n",
    "        age.append(word)\n",
    "age"
   ]
  },
  {
   "cell_type": "code",
   "execution_count": 33,
   "id": "2ce588b3",
   "metadata": {},
   "outputs": [
    {
     "data": {
      "text/plain": [
       "82"
      ]
     },
     "execution_count": 33,
     "metadata": {},
     "output_type": "execute_result"
    }
   ],
   "source": [
    "add = 0\n",
    "for i in age:\n",
    "    add = add + int(i)\n",
    "    \n",
    "add"
   ]
  },
  {
   "cell_type": "code",
   "execution_count": 35,
   "id": "28277ac7",
   "metadata": {},
   "outputs": [
    {
     "name": "stdout",
     "output_type": "stream",
     "text": [
      "Average age in given sentence:- 27.33\n"
     ]
    }
   ],
   "source": [
    "print('Average age in given sentence:-',np.round(add/len(age),2))  #np.round:- used for roundoff the value"
   ]
  },
  {
   "cell_type": "code",
   "execution_count": 50,
   "id": "63f87617",
   "metadata": {},
   "outputs": [
    {
     "name": "stdout",
     "output_type": "stream",
     "text": [
      "Average of ages given in the sentence;- 27.33\n"
     ]
    }
   ],
   "source": [
    "#practice list comphrension\n",
    "\n",
    "age = [val for val in sent.split() if val.isdigit()]\n",
    "\n",
    "sum = 0\n",
    "for val in age:\n",
    "    sum = sum + int(val)\n",
    "\n",
    "print(\"Average of ages given in the sentence;-\",np.round(sum/len(age),2))"
   ]
  },
  {
   "cell_type": "code",
   "execution_count": null,
   "id": "52322e73",
   "metadata": {},
   "outputs": [],
   "source": []
  }
 ],
 "metadata": {
  "kernelspec": {
   "display_name": "Python 3 (ipykernel)",
   "language": "python",
   "name": "python3"
  },
  "language_info": {
   "codemirror_mode": {
    "name": "ipython",
    "version": 3
   },
   "file_extension": ".py",
   "mimetype": "text/x-python",
   "name": "python",
   "nbconvert_exporter": "python",
   "pygments_lexer": "ipython3",
   "version": "3.11.5"
  }
 },
 "nbformat": 4,
 "nbformat_minor": 5
}
