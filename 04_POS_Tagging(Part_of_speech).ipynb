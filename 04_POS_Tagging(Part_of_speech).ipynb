{
 "cells": [
  {
   "cell_type": "markdown",
   "id": "c85a59e3",
   "metadata": {},
   "source": [
    "### POS_Tagging:\n",
    "\n",
    "1. In Natural Language Processing (NLP), pos_tag is a function used for Part-of-Speech (POS) tagging. \n",
    "2. POS tagging is the process of labeling words in a sentence with their respective grammatical categories, such as nouns, verbs, adjectives, etc. \n",
    "3. This process plays an important role in many NLP applications, including text analysis, information retrieval, and machine translation.\n",
    "4. The pos_tag function assigns a tag to each word in a sentence based on its syntactic role and function within the sentence. \n",
    "5. These POS tags provide valuable information about the word's behavior and its relationship with other words in the sentence ."
   ]
  },
  {
   "cell_type": "code",
   "execution_count": 1,
   "id": "10129423",
   "metadata": {},
   "outputs": [],
   "source": [
    "#imports\n",
    "\n",
    "from nltk.tokenize import word_tokenize\n",
    "from nltk import pos_tag"
   ]
  },
  {
   "cell_type": "code",
   "execution_count": 2,
   "id": "33e8aac6",
   "metadata": {},
   "outputs": [],
   "source": [
    "text = 'English is a West Germanic language in the Indo-European language family, whose speakers, called Anglophones, originated in early medieval England. The namesake of the language is the Angles, one of the ancient Germanic peoples that migrated to the island of Great Britain. Modern English is both the most spoken language in the world and the third-most spoken native language, after Mandarin Chinese and Spanish. It is also the most widely learned second language in the world, with more second-language speakers than native speakers.'"
   ]
  },
  {
   "cell_type": "code",
   "execution_count": 3,
   "id": "a8808205",
   "metadata": {},
   "outputs": [
    {
     "data": {
      "text/plain": [
       "[('English', 'NNP'),\n",
       " ('is', 'VBZ'),\n",
       " ('a', 'DT'),\n",
       " ('West', 'NNP'),\n",
       " ('Germanic', 'NNP'),\n",
       " ('language', 'NN'),\n",
       " ('in', 'IN'),\n",
       " ('the', 'DT'),\n",
       " ('Indo-European', 'JJ'),\n",
       " ('language', 'NN'),\n",
       " ('family', 'NN'),\n",
       " (',', ','),\n",
       " ('whose', 'WP$'),\n",
       " ('speakers', 'NNS'),\n",
       " (',', ','),\n",
       " ('called', 'VBN'),\n",
       " ('Anglophones', 'NNS'),\n",
       " (',', ','),\n",
       " ('originated', 'VBN'),\n",
       " ('in', 'IN'),\n",
       " ('early', 'JJ'),\n",
       " ('medieval', 'NN'),\n",
       " ('England', 'NNP'),\n",
       " ('.', '.'),\n",
       " ('The', 'DT'),\n",
       " ('namesake', 'NN'),\n",
       " ('of', 'IN'),\n",
       " ('the', 'DT'),\n",
       " ('language', 'NN'),\n",
       " ('is', 'VBZ'),\n",
       " ('the', 'DT'),\n",
       " ('Angles', 'NNP'),\n",
       " (',', ','),\n",
       " ('one', 'CD'),\n",
       " ('of', 'IN'),\n",
       " ('the', 'DT'),\n",
       " ('ancient', 'NN'),\n",
       " ('Germanic', 'NNP'),\n",
       " ('peoples', 'VBZ'),\n",
       " ('that', 'WDT'),\n",
       " ('migrated', 'VBD'),\n",
       " ('to', 'TO'),\n",
       " ('the', 'DT'),\n",
       " ('island', 'NN'),\n",
       " ('of', 'IN'),\n",
       " ('Great', 'NNP'),\n",
       " ('Britain', 'NNP'),\n",
       " ('.', '.'),\n",
       " ('Modern', 'NNP'),\n",
       " ('English', 'NNP'),\n",
       " ('is', 'VBZ'),\n",
       " ('both', 'DT'),\n",
       " ('the', 'DT'),\n",
       " ('most', 'RBS'),\n",
       " ('spoken', 'JJ'),\n",
       " ('language', 'NN'),\n",
       " ('in', 'IN'),\n",
       " ('the', 'DT'),\n",
       " ('world', 'NN'),\n",
       " ('and', 'CC'),\n",
       " ('the', 'DT'),\n",
       " ('third-most', 'JJ'),\n",
       " ('spoken', 'JJ'),\n",
       " ('native', 'JJ'),\n",
       " ('language', 'NN'),\n",
       " (',', ','),\n",
       " ('after', 'IN'),\n",
       " ('Mandarin', 'NNP'),\n",
       " ('Chinese', 'NNP'),\n",
       " ('and', 'CC'),\n",
       " ('Spanish', 'NNP'),\n",
       " ('.', '.'),\n",
       " ('It', 'PRP'),\n",
       " ('is', 'VBZ'),\n",
       " ('also', 'RB'),\n",
       " ('the', 'DT'),\n",
       " ('most', 'RBS'),\n",
       " ('widely', 'RB'),\n",
       " ('learned', 'VBN'),\n",
       " ('second', 'JJ'),\n",
       " ('language', 'NN'),\n",
       " ('in', 'IN'),\n",
       " ('the', 'DT'),\n",
       " ('world', 'NN'),\n",
       " (',', ','),\n",
       " ('with', 'IN'),\n",
       " ('more', 'RBR'),\n",
       " ('second-language', 'JJ'),\n",
       " ('speakers', 'NNS'),\n",
       " ('than', 'IN'),\n",
       " ('native', 'JJ'),\n",
       " ('speakers', 'NNS'),\n",
       " ('.', '.')]"
      ]
     },
     "execution_count": 3,
     "metadata": {},
     "output_type": "execute_result"
    }
   ],
   "source": [
    "text_tag = pos_tag(word_tokenize(text))   #we have to give list of words to pos tag it will return list of tuple\n",
    "\n",
    "text_tag"
   ]
  },
  {
   "cell_type": "code",
   "execution_count": 4,
   "id": "bb747cde",
   "metadata": {},
   "outputs": [
    {
     "data": {
      "text/plain": [
       "['is',\n",
       " 'called',\n",
       " 'originated',\n",
       " 'is',\n",
       " 'peoples',\n",
       " 'migrated',\n",
       " 'is',\n",
       " 'is',\n",
       " 'learned']"
      ]
     },
     "execution_count": 4,
     "metadata": {},
     "output_type": "execute_result"
    }
   ],
   "source": [
    "# Take only verb out of the text_tag\n",
    "\n",
    "verb = []\n",
    "\n",
    "for word, tag in text_tag:\n",
    "    if (tag.startswith('V') and word.isalpha()):\n",
    "        verb.append(word)\n",
    "        \n",
    "verb"
   ]
  },
  {
   "cell_type": "code",
   "execution_count": 5,
   "id": "1f88fe33",
   "metadata": {},
   "outputs": [
    {
     "name": "stdout",
     "output_type": "stream",
     "text": [
      "['English', 'West', 'Germanic', 'England', 'Angles', 'Germanic', 'Great', 'Britain', 'Modern', 'English', 'Mandarin', 'Chinese', 'Spanish']\n",
      "Number of proper noun:- 13\n"
     ]
    }
   ],
   "source": [
    "#How many proper nouns are there          (Proper Noun:- NNP)\n",
    "\n",
    "proper_noun = []\n",
    "for word,tag in text_tag:\n",
    "    if(tag == 'NNP' and word.isalpha()):\n",
    "        proper_noun.append(word)\n",
    "\n",
    "print(proper_noun)\n",
    "\n",
    "print(\"Number of proper noun:-\",len(proper_noun))\n",
    "        "
   ]
  },
  {
   "cell_type": "code",
   "execution_count": 6,
   "id": "584ab343",
   "metadata": {},
   "outputs": [
    {
     "name": "stdout",
     "output_type": "stream",
     "text": [
      "Indo-European language\n",
      "early medieval\n",
      "spoken language\n",
      "native language\n",
      "second language\n",
      "second-language speakers\n",
      "native speakers\n"
     ]
    }
   ],
   "source": [
    "#pair of adj and Noun\n",
    "\n",
    "for i in range(len(text_tag)):\n",
    "    if text_tag[i][1].startswith('J') and text_tag[i+1][1].startswith('N'):\n",
    "        print(text_tag[i][0], text_tag[i+1][0])"
   ]
  },
  {
   "cell_type": "markdown",
   "id": "329867e9",
   "metadata": {},
   "source": [
    "### Tagging"
   ]
  },
  {
   "cell_type": "code",
   "execution_count": 7,
   "id": "d9d6096e",
   "metadata": {},
   "outputs": [],
   "source": [
    "from nltk.corpus import indian\n",
    "from nltk import TnT    #TnT Tagger : It is a statistical tagger that works on second-order Markov models."
   ]
  },
  {
   "cell_type": "code",
   "execution_count": 8,
   "id": "2d3554e4",
   "metadata": {},
   "outputs": [
    {
     "data": {
      "text/plain": [
       "[[(\"''\", 'SYM'), ('सनातनवाद्यांनी', 'NN'), ('व', 'CC'), ('प्रतिगाम्यांनी', 'NN'), ('समाज', 'NN'), ('रसातळाला', 'NN'), ('नेला', 'VM'), ('असताना', 'VAUX'), ('या', 'DEM'), ('अंधारात', 'NN'), ('बाळशास्त्री', 'NNPC'), ('जांभेकर', 'NNP'), ('यांनी', 'PRP'), (\"'दर्पण'च्या\", 'NNP'), ('माध्यमातून', 'NN'), ('पहिली', 'QO'), ('ज्ञानज्योत', 'NN'), ('तेववली', 'VM'), (',', 'SYM'), (\"''\", 'SYM'), ('असे', 'DEM'), ('प्रतिपादन', 'NN'), ('नटसम्राट', 'NNPC'), ('प्रभाकर', 'NNPC'), ('पणशीकर', 'NNP'), ('यांनी', 'PRP'), ('केले', 'VM'), ('.', 'SYM')], [('दर्पणकार', 'JJ'), ('बाळशास्त्री', 'NNPC'), ('जांभेकर', 'NNP'), ('यांच्या', 'PRP'), ('१९५व्या', 'QC'), ('जयंतीनिमित्त', 'NN'), ('महाराष्ट्र', 'NNPC'), ('संपादक', 'NNPC'), ('परिषद', 'NNP'), ('व', 'CC'), ('सिंधुदुर्ग', 'NNPC'), ('जिल्हा', 'NNPC'), ('मराठी', 'NNPC'), ('पत्रकार', 'NNPC'), ('संघाच्या', 'NNP'), ('वतीने', 'NN'), ('तसेच', 'PRP'), ('महाराष्ट्र', 'NNPC'), ('जर्नलिस्ट', 'NNPC'), ('फाउंडेशन', 'NNP'), ('व', 'CC'), ('महाराष्ट्र', 'NNPC'), ('ग्रामीण', 'NNPC'), ('पत्रकार', 'NNPC'), ('संघाच्या', 'NNP'), ('सहभागाने', 'NN'), ('अभिवादन', 'NN'), ('कार्यक्रम', 'NN'), ('आयोजित', 'JJ'), ('केला', 'VM'), ('होता', 'VAUX'), ('.', 'SYM')], ...]"
      ]
     },
     "execution_count": 8,
     "metadata": {},
     "output_type": "execute_result"
    }
   ],
   "source": [
    "#tagged_sents is giving tag\n",
    "pos = indian.tagged_sents('marathi.pos')\n",
    "pos"
   ]
  },
  {
   "cell_type": "code",
   "execution_count": 9,
   "id": "b8cd1eaa",
   "metadata": {},
   "outputs": [],
   "source": [
    "tagger = TnT()\n",
    "\n",
    "tagger.train(pos)"
   ]
  },
  {
   "cell_type": "code",
   "execution_count": 10,
   "id": "2174fd74",
   "metadata": {},
   "outputs": [],
   "source": [
    "text = 'सोमवारी हा सामना सुमारे आठ तास उशिरा सुरू झाला.'"
   ]
  },
  {
   "cell_type": "code",
   "execution_count": 11,
   "id": "85b2058d",
   "metadata": {},
   "outputs": [
    {
     "data": {
      "text/plain": [
       "[('सोमवारी', 'NNP'),\n",
       " ('हा', 'DEM'),\n",
       " ('सामना', 'NN'),\n",
       " ('सुमारे', 'QF'),\n",
       " ('आठ', 'QC'),\n",
       " ('तास', 'NN'),\n",
       " ('उशिरा', 'NN'),\n",
       " ('सुरू', 'JJ'),\n",
       " ('झाला', 'VM'),\n",
       " ('.', 'SYM')]"
      ]
     },
     "execution_count": 11,
     "metadata": {},
     "output_type": "execute_result"
    }
   ],
   "source": [
    "tagger.tag(word_tokenize(text))"
   ]
  },
  {
   "cell_type": "code",
   "execution_count": null,
   "id": "534e3a92",
   "metadata": {},
   "outputs": [],
   "source": []
  }
 ],
 "metadata": {
  "kernelspec": {
   "display_name": "Python 3 (ipykernel)",
   "language": "python",
   "name": "python3"
  },
  "language_info": {
   "codemirror_mode": {
    "name": "ipython",
    "version": 3
   },
   "file_extension": ".py",
   "mimetype": "text/x-python",
   "name": "python",
   "nbconvert_exporter": "python",
   "pygments_lexer": "ipython3",
   "version": "3.11.5"
  }
 },
 "nbformat": 4,
 "nbformat_minor": 5
}
