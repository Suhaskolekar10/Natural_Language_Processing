{
 "cells": [
  {
   "cell_type": "code",
   "execution_count": 4,
   "id": "63becf89",
   "metadata": {},
   "outputs": [],
   "source": [
    "from tkinter import*"
   ]
  },
  {
   "cell_type": "markdown",
   "id": "09a6dba7",
   "metadata": {},
   "source": [
    "### Basic window"
   ]
  },
  {
   "cell_type": "code",
   "execution_count": 3,
   "id": "96fa1a31",
   "metadata": {},
   "outputs": [],
   "source": [
    "top = Tk()\n",
    "\n",
    "top.mainloop()"
   ]
  },
  {
   "cell_type": "markdown",
   "id": "684b309a",
   "metadata": {},
   "source": [
    "### Title and size:"
   ]
  },
  {
   "cell_type": "code",
   "execution_count": 5,
   "id": "06de0396",
   "metadata": {},
   "outputs": [],
   "source": [
    "top =Tk()\n",
    "top.title('My first application')\n",
    "top.geometry('400x300')                           #400=width   300=height\n",
    "top.mainloop()"
   ]
  },
  {
   "cell_type": "markdown",
   "id": "1d5d56fe",
   "metadata": {},
   "source": [
    "### Add the weights"
   ]
  },
  {
   "cell_type": "code",
   "execution_count": 9,
   "id": "418a17d6",
   "metadata": {},
   "outputs": [],
   "source": [
    "top =Tk()\n",
    "top.title('My first application')\n",
    "top.geometry('400x300')                           #400=width   300=height\n",
    "\n",
    "\n",
    "l = Label(text = 'Hello World')\n",
    "t = Entry(top)\n",
    "b = Button(top,text = 'Submit')\n",
    "\n",
    "l.pack()\n",
    "t.pack()\n",
    "b.pack()\n",
    "\n",
    "top.mainloop()"
   ]
  },
  {
   "cell_type": "markdown",
   "id": "d37fd7c5",
   "metadata": {},
   "source": [
    "### Event Handling"
   ]
  },
  {
   "cell_type": "code",
   "execution_count": 10,
   "id": "283b04ea",
   "metadata": {},
   "outputs": [
    {
     "name": "stdout",
     "output_type": "stream",
     "text": [
      "Square is: 25\n",
      "Square is: 625\n",
      "Square is: 256\n"
     ]
    }
   ],
   "source": [
    "top =Tk()\n",
    "top.title('My first application')\n",
    "top.geometry('400x300')                           #400=width   300=height\n",
    "\n",
    "def find():\n",
    "    n = num.get()\n",
    "    print('Square is:',n*n)\n",
    "\n",
    "num = IntVar()\n",
    "\n",
    "l = Label(text = 'Hello World')\n",
    "t = Entry(top, textvariable = num)\n",
    "b = Button(top,text = 'Find Square',command=find)\n",
    "\n",
    "l.pack()\n",
    "t.pack()\n",
    "b.pack()\n",
    "\n",
    "top.mainloop()"
   ]
  },
  {
   "cell_type": "code",
   "execution_count": null,
   "id": "5bf8bfcf",
   "metadata": {},
   "outputs": [],
   "source": []
  },
  {
   "cell_type": "code",
   "execution_count": 14,
   "id": "2f7b9912",
   "metadata": {},
   "outputs": [],
   "source": [
    "top =Tk()\n",
    "top.title('My first application')\n",
    "top.geometry('400x300')                           #400=width   300=height\n",
    "\n",
    "def find():\n",
    "    n = num.get()\n",
    "    result = Label(text ='Square is: %d'%(n*n))\n",
    "    result.pack()\n",
    "\n",
    "num = IntVar()\n",
    "\n",
    "l = Label(text = 'Hello World')\n",
    "t = Entry(top, textvariable = num)\n",
    "b = Button(top,text = 'Find Square',command=find)\n",
    "\n",
    "l.pack()\n",
    "t.pack()\n",
    "b.pack()\n",
    "\n",
    "top.mainloop()"
   ]
  },
  {
   "cell_type": "code",
   "execution_count": null,
   "id": "9a2a6b5a",
   "metadata": {},
   "outputs": [],
   "source": []
  },
  {
   "cell_type": "code",
   "execution_count": 17,
   "id": "e4b2adc2",
   "metadata": {},
   "outputs": [],
   "source": [
    "top =Tk()\n",
    "top.title('My first application')\n",
    "top.geometry('400x300')                           #400=width   300=height\n",
    "\n",
    "def find():\n",
    "    n = num.get()\n",
    "    result.config(text ='Square is: %d'%(n*n))\n",
    "    \n",
    "num = IntVar()\n",
    "\n",
    "l = Label(text = 'Hello World')\n",
    "t = Entry(top, textvariable = num)\n",
    "b = Button(top,text = 'Find Square',command=find)\n",
    "result = Label(text ='Square is:')\n",
    "    \n",
    "\n",
    "l.pack()\n",
    "t.pack()\n",
    "b.pack()\n",
    "result.pack()\n",
    "\n",
    "top.mainloop()"
   ]
  },
  {
   "cell_type": "code",
   "execution_count": null,
   "id": "bdeee90f",
   "metadata": {},
   "outputs": [],
   "source": []
  },
  {
   "cell_type": "code",
   "execution_count": 22,
   "id": "6f34a8fa",
   "metadata": {},
   "outputs": [],
   "source": [
    "top =Tk()\n",
    "top.title('My first application')\n",
    "top.geometry('400x300')                           #400=width   300=height\n",
    "\n",
    "def find(event):\n",
    "    n = num.get()\n",
    "    result.config(text ='Square is: %d'%(n*n))\n",
    "    \n",
    "num = IntVar()\n",
    "\n",
    "l = Label(top,text= 'Enter the number')\n",
    "t = Entry(top, textvariable = num)\n",
    "t.bind('<Return>',find)\n",
    "result = Label(text ='Square is:')\n",
    "    \n",
    "\n",
    "l.pack()\n",
    "t.pack()\n",
    "result.pack()\n",
    "\n",
    "top.mainloop()"
   ]
  },
  {
   "cell_type": "code",
   "execution_count": null,
   "id": "f9232d37",
   "metadata": {},
   "outputs": [],
   "source": []
  },
  {
   "cell_type": "code",
   "execution_count": 24,
   "id": "77325ed3",
   "metadata": {},
   "outputs": [],
   "source": [
    "#For placing the label and  boxes according to our need\n",
    "\n",
    "top =Tk()\n",
    "top.title('My first application')\n",
    "top.geometry('400x300')                           #400=width   300=height\n",
    "\n",
    "def find(event):\n",
    "    n = num.get()\n",
    "    result.config(text ='Square is: %d'%(n*n))\n",
    "    \n",
    "num = IntVar()\n",
    "\n",
    "l = Label(top,text= 'Enter the number')\n",
    "t = Entry(top, textvariable = num)\n",
    "t.bind('<Return>',find)\n",
    "result = Label(text ='Square is:')\n",
    "    \n",
    "\n",
    "l.place(x=50,y=30)\n",
    "t.place(x=50,y=60)\n",
    "result.place(x=50,y=90)\n",
    "\n",
    "top.mainloop()"
   ]
  },
  {
   "cell_type": "code",
   "execution_count": null,
   "id": "ffa9536f",
   "metadata": {},
   "outputs": [],
   "source": []
  },
  {
   "cell_type": "code",
   "execution_count": 27,
   "id": "44681683",
   "metadata": {},
   "outputs": [],
   "source": [
    "#For placing the label and  boxes according to our need\n",
    "\n",
    "top =Tk()\n",
    "top.title('My first application')\n",
    "top.geometry('400x300')                           #400=width   300=height\n",
    "\n",
    "def find(event):\n",
    "    n = num.get()\n",
    "    result.config(text ='Square is: %d'%(n*n))\n",
    "    \n",
    "num = IntVar()\n",
    "\n",
    "Label(top,text= 'Enter the number').place(x=50,y=30)\n",
    "t = Entry(top, textvariable = num)\n",
    "t.bind('<Return>',find)\n",
    "result = Label(text ='Square is:')\n",
    "    \n",
    "t.place(x=50,y=60)\n",
    "result.place(x=50,y=90)\n",
    "\n",
    "top.mainloop()"
   ]
  },
  {
   "cell_type": "code",
   "execution_count": null,
   "id": "4597b997",
   "metadata": {},
   "outputs": [],
   "source": []
  },
  {
   "cell_type": "code",
   "execution_count": 52,
   "id": "ed74f48a",
   "metadata": {},
   "outputs": [],
   "source": [
    "from tkinter import*\n",
    "\n",
    "#program to build a calculator\n",
    "\n",
    "top =Tk()\n",
    "top.title('My first Calculator')\n",
    "top.geometry('400x300')                           #400=width   300=height\n",
    "\n",
    "def find():\n",
    "    n1 = num1.get()\n",
    "    n2 = num2.get()\n",
    "    \n",
    "    result.config(text ='addition is: %d'%(n1+n2))\n",
    "    \n",
    "def find1():\n",
    "    n1 = num1.get()\n",
    "    n2 = num2.get()\n",
    "    \n",
    "    result.config(text ='Subtraction is: %d'%(n1-n2))\n",
    "    \n",
    "def find2():\n",
    "    n1 = num1.get()\n",
    "    n2 = num2.get()\n",
    "    \n",
    "    result.config(text ='Product is: %d'%(n1*n2))\n",
    "    \n",
    "def find3():\n",
    "    n1 = num1.get()\n",
    "    n2 = num2.get()\n",
    "    \n",
    "    result.config(text ='division is: %0.2f'%(n1/n2))\n",
    "    \n",
    "num1 = IntVar()\n",
    "num2 = IntVar()\n",
    "\n",
    "l1=Label(top,text= 'Enter the number1')\n",
    "l2=Label(top,text= 'Enter the number2')\n",
    "t1 = Entry(top, textvariable = num1)\n",
    "t2 = Entry(top, textvariable = num2)\n",
    "\n",
    "b1 = Button(top,text = '+',command=find)\n",
    "b2 = Button(top,text = '-',command=find1)\n",
    "b3 = Button(top,text = '*',command=find2)\n",
    "b4 = Button(top,text = '/',command=find3)\n",
    "result = Label(text ='result is:')\n",
    "    \n",
    "l1.place(x=50,y=30) \n",
    "l2.place(x=200,y=30)\n",
    "    \n",
    "t1.place(x=50,y=60)\n",
    "t2.place(x=200,y=60)\n",
    "\n",
    "b1.place(x=50,y=90)\n",
    "b2.place(x=100,y=90)\n",
    "b3.place(x=150,y=90)\n",
    "b4.place(x=200,y=90)\n",
    "\n",
    "result.place(x=150,y=130)\n",
    "\n",
    "top.mainloop()"
   ]
  },
  {
   "cell_type": "code",
   "execution_count": null,
   "id": "88bd3c14",
   "metadata": {},
   "outputs": [],
   "source": []
  }
 ],
 "metadata": {
  "kernelspec": {
   "display_name": "Python 3 (ipykernel)",
   "language": "python",
   "name": "python3"
  },
  "language_info": {
   "codemirror_mode": {
    "name": "ipython",
    "version": 3
   },
   "file_extension": ".py",
   "mimetype": "text/x-python",
   "name": "python",
   "nbconvert_exporter": "python",
   "pygments_lexer": "ipython3",
   "version": "3.11.5"
  }
 },
 "nbformat": 4,
 "nbformat_minor": 5
}
