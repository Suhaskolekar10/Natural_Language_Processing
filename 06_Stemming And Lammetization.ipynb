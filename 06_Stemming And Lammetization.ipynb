{
 "cells": [
  {
   "cell_type": "markdown",
   "id": "bada5e53",
   "metadata": {},
   "source": [
    "## Stemming:-\n",
    "\n",
    "1. Stemming is a natural language processing technique used to reduce words to their base or root form, also known as the stem. \n",
    "2. Fastes way to get to the rootform of the word\n",
    "3. it will deletes the afixes sufixes and give clean text: remove ing,s,es \n",
    "4. This process is used to normalize text and make it easier to process.\n",
    "5. For example, the words \"chocolates\", \"chocolatey\", \"choco\" are reduced to the root word \"chocolate\", and \"retrieval\", \"retrieved\", \"retrieves\" are reduced to the stem \"retrieve\".\n",
    "6. Stemming is used in information retrieval systems like search engines, and it is used to determine domain vocabularies in domain analysis. For example, Google adopted word stemming in 2003. \n",
    "7. There are several different algorithms for stemming, including the ***Porter stemmer***, ***Snowball stemmer***, and the ***Lancaster stemmer***. \n",
    "    \n",
    "    A. The **Porter stemmer** is the most widely used algorithm, and it is based on a set of heuristics that are used to remove common suffixes from words. \n",
    "    \n",
    "    B. The **Snowball stemmer** is a more advanced algorithm that is based on the Porter stemmer, but it also supports several other languages in addition to English. \n",
    "    \n",
    "    C. The **Lancaster stemmer** is a more aggressive stemmer and it is less accurate than the Porter stemmer and Snowball stemmer .\n",
    "\n",
    "8. It is important to note that stemming is different from Lemmatization. Lemmatization is the process of reducing a word to its base form, but unlike stemming, it takes into account the context of the word, and it produces a valid word, unlike stemming which may produce a non-word as the root form .\n"
   ]
  },
  {
   "cell_type": "markdown",
   "id": "f6e4a073",
   "metadata": {},
   "source": [
    "### Porter Stemmer :   "
   ]
  },
  {
   "cell_type": "code",
   "execution_count": 1,
   "id": "80dee246",
   "metadata": {},
   "outputs": [],
   "source": [
    "#Import \n",
    "from nltk.stem import PorterStemmer\n",
    "\n",
    "ps = PorterStemmer()"
   ]
  },
  {
   "cell_type": "code",
   "execution_count": 2,
   "id": "14a9c0fb",
   "metadata": {},
   "outputs": [
    {
     "name": "stdout",
     "output_type": "stream",
     "text": [
      "cat\n",
      "catti\n",
      "catlik\n",
      "cat\n"
     ]
    }
   ],
   "source": [
    "words = ['cat','catty','catlike','cats']\n",
    "\n",
    "for word in words:\n",
    "    print(ps.stem(word))"
   ]
  },
  {
   "cell_type": "code",
   "execution_count": 3,
   "id": "425b54aa",
   "metadata": {},
   "outputs": [
    {
     "name": "stdout",
     "output_type": "stream",
     "text": [
      "program\n",
      "program\n",
      "program\n",
      "programat\n"
     ]
    }
   ],
   "source": [
    "word2 = 'program','programmed','programming','programatic'\n",
    "\n",
    "for word in word2:\n",
    "    print(ps.stem(word))"
   ]
  },
  {
   "cell_type": "markdown",
   "id": "0dea2665",
   "metadata": {},
   "source": [
    "### Conclusion:- Porter_stemmer is not that much efficiently work....:)"
   ]
  },
  {
   "cell_type": "markdown",
   "id": "1acc6c62",
   "metadata": {},
   "source": [
    "# ----------------------------------------------------------------------------------------------------------"
   ]
  },
  {
   "cell_type": "markdown",
   "id": "9274bed4",
   "metadata": {},
   "source": [
    "### Lancaster Stemmer :"
   ]
  },
  {
   "cell_type": "code",
   "execution_count": 4,
   "id": "06042574",
   "metadata": {},
   "outputs": [],
   "source": [
    "#Import \n",
    "from nltk.stem import LancasterStemmer\n",
    "\n",
    "ls = LancasterStemmer()"
   ]
  },
  {
   "cell_type": "code",
   "execution_count": 5,
   "id": "73cc8723",
   "metadata": {},
   "outputs": [
    {
     "name": "stdout",
     "output_type": "stream",
     "text": [
      "cat\n",
      "catty\n",
      "catlik\n",
      "cat\n"
     ]
    }
   ],
   "source": [
    "words = ['cat','catty','catlike','cats']\n",
    "\n",
    "for word in words:\n",
    "    print(ls.stem(word))"
   ]
  },
  {
   "cell_type": "code",
   "execution_count": 6,
   "id": "08cb2000",
   "metadata": {},
   "outputs": [
    {
     "name": "stdout",
     "output_type": "stream",
     "text": [
      "program\n",
      "program\n",
      "program\n",
      "programat\n"
     ]
    }
   ],
   "source": [
    "word2 = 'program','programmed','programming','programatic'\n",
    "\n",
    "for word in word2:\n",
    "    print(ps.stem(word))"
   ]
  },
  {
   "cell_type": "markdown",
   "id": "3a3b867c",
   "metadata": {},
   "source": [
    "### Conclusion : -It will somewhat work similar to poster Stemmer"
   ]
  },
  {
   "cell_type": "markdown",
   "id": "45bea241",
   "metadata": {},
   "source": [
    "# ----------------------------------------------------------------------------------------------------------"
   ]
  },
  {
   "cell_type": "markdown",
   "id": "4a037c14",
   "metadata": {},
   "source": [
    "## WordNetLemmatizer: \n",
    "\n",
    "1. It is important to note that stemming is different from Lemmatization. Lemmatization is the process of reducing a word to its base form, but unlike stemming, it takes into account the context of the word, and it produces a valid word, unlike stemming which may produce a non-word as the root form.\n",
    "2. Lemmatization is a text pre-processing technique used in natural language processing (NLP) models to break a word down to its root meaning to identify similarities.\n",
    "3. The advantage of lemmatization is that it is more accurate than stemming. So, if you’re dealing with an NLP application such as a chat bot or a virtual assistant, where understanding the meaning of the dialogue is crucial, lemmatization would be useful. However, this accuracy comes at a cost. Because lemmatization involves deriving the meaning of a word from something like a dictionary, it’s very time-consuming. So most lemmatization algorithms are slower compared to their stemming counterparts.\n",
    "4. In conclusion, whether to use lemmatization or stemming depends on the specific requirements of your project. If you need a more accurate representation of the words and you can afford the computational cost, lemmatization is the way to go. However, if speed is more important, stemming might be a better choice."
   ]
  },
  {
   "cell_type": "code",
   "execution_count": 7,
   "id": "30f05743",
   "metadata": {},
   "outputs": [],
   "source": [
    "# Import \n",
    "from nltk.stem import WordNetLemmatizer\n",
    "\n",
    "wnl = WordNetLemmatizer()"
   ]
  },
  {
   "cell_type": "code",
   "execution_count": 8,
   "id": "eced1eae",
   "metadata": {},
   "outputs": [
    {
     "name": "stdout",
     "output_type": "stream",
     "text": [
      "go\n",
      "go\n",
      "go\n",
      "go\n",
      "go\n"
     ]
    }
   ],
   "source": [
    "word2 = 'go','went','gone','going','goes'\n",
    "\n",
    "for word in word2:\n",
    "    print(wnl.lemmatize(word, pos='v'))       #Here we have to pass the word and the part of speech for that word  "
   ]
  },
  {
   "cell_type": "code",
   "execution_count": 9,
   "id": "de4c5748",
   "metadata": {},
   "outputs": [
    {
     "name": "stdout",
     "output_type": "stream",
     "text": [
      "program\n",
      "program\n",
      "program\n",
      "programatic\n"
     ]
    }
   ],
   "source": [
    "word2 = 'program','programmed','programming','programatic'\n",
    "\n",
    "for word in word2:\n",
    "    print(wnl.lemmatize(word, pos='v'))"
   ]
  },
  {
   "cell_type": "markdown",
   "id": "decb81f6",
   "metadata": {},
   "source": [
    "### Conclusion:- WordNetLemmatizer is working more efficiently but littlebit time-consuming, but it kept the      sentiment of the word....:)"
   ]
  },
  {
   "cell_type": "code",
   "execution_count": null,
   "id": "7f39e57a",
   "metadata": {},
   "outputs": [],
   "source": []
  }
 ],
 "metadata": {
  "kernelspec": {
   "display_name": "Python 3 (ipykernel)",
   "language": "python",
   "name": "python3"
  },
  "language_info": {
   "codemirror_mode": {
    "name": "ipython",
    "version": 3
   },
   "file_extension": ".py",
   "mimetype": "text/x-python",
   "name": "python",
   "nbconvert_exporter": "python",
   "pygments_lexer": "ipython3",
   "version": "3.11.5"
  }
 },
 "nbformat": 4,
 "nbformat_minor": 5
}
