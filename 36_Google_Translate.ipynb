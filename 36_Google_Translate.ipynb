{
 "cells": [
  {
   "cell_type": "code",
   "execution_count": 1,
   "id": "9175a12e",
   "metadata": {},
   "outputs": [
    {
     "name": "stdout",
     "output_type": "stream",
     "text": [
      "Requirement already satisfied: goslate in /home/dai/anaconda3/lib/python3.11/site-packages (1.5.4)\r\n",
      "Requirement already satisfied: futures in /home/dai/anaconda3/lib/python3.11/site-packages (from goslate) (3.0.5)\r\n"
     ]
    }
   ],
   "source": [
    "!pip install goslate"
   ]
  },
  {
   "cell_type": "code",
   "execution_count": 2,
   "id": "d45b54ce",
   "metadata": {},
   "outputs": [],
   "source": [
    "from goslate import Goslate"
   ]
  },
  {
   "cell_type": "code",
   "execution_count": 3,
   "id": "369b0813",
   "metadata": {},
   "outputs": [],
   "source": [
    "text =\"Hello friends. I am your teacher. I will teach this course.\""
   ]
  },
  {
   "cell_type": "code",
   "execution_count": 4,
   "id": "a69ff02d",
   "metadata": {},
   "outputs": [],
   "source": [
    "trans = Goslate()"
   ]
  },
  {
   "cell_type": "code",
   "execution_count": null,
   "id": "76999aed",
   "metadata": {},
   "outputs": [],
   "source": [
    "trans.translate(text=text,target_language='mr')  #too many hits ----> run once only"
   ]
  },
  {
   "cell_type": "code",
   "execution_count": 6,
   "id": "9f182f52",
   "metadata": {},
   "outputs": [],
   "source": [
    "languages = Goslate().get_languages()"
   ]
  },
  {
   "cell_type": "code",
   "execution_count": 7,
   "id": "5fbe007e",
   "metadata": {},
   "outputs": [
    {
     "data": {
      "text/plain": [
       "{'af': 'Afrikaans',\n",
       " 'sq': 'Albanian',\n",
       " 'am': 'Amharic',\n",
       " 'ar': 'Arabic',\n",
       " 'hy': 'Armenian',\n",
       " 'as': 'Assamese',\n",
       " 'ay': 'Aymara',\n",
       " 'az': 'Azerbaijani',\n",
       " 'bm': 'Bambara',\n",
       " 'eu': 'Basque',\n",
       " 'be': 'Belarusian',\n",
       " 'bn': 'Bengali',\n",
       " 'bho': 'Bhojpuri',\n",
       " 'bs': 'Bosnian',\n",
       " 'bg': 'Bulgarian',\n",
       " 'ca': 'Catalan',\n",
       " 'ceb': 'Cebuano',\n",
       " 'ny': 'Chichewa',\n",
       " 'zh-CN': 'Chinese (Simplified)',\n",
       " 'co': 'Corsican',\n",
       " 'hr': 'Croatian',\n",
       " 'cs': 'Czech',\n",
       " 'da': 'Danish',\n",
       " 'dv': 'Dhivehi',\n",
       " 'doi': 'Dogri',\n",
       " 'nl': 'Dutch',\n",
       " 'en': 'English',\n",
       " 'eo': 'Esperanto',\n",
       " 'et': 'Estonian',\n",
       " 'ee': 'Ewe',\n",
       " 'tl': 'Filipino',\n",
       " 'fi': 'Finnish',\n",
       " 'fr': 'French',\n",
       " 'fy': 'Frisian',\n",
       " 'gl': 'Galician',\n",
       " 'ka': 'Georgian',\n",
       " 'de': 'German',\n",
       " 'el': 'Greek',\n",
       " 'gn': 'Guarani',\n",
       " 'gu': 'Gujarati',\n",
       " 'ht': 'Haitian Creole',\n",
       " 'ha': 'Hausa',\n",
       " 'haw': 'Hawaiian',\n",
       " 'iw': 'Hebrew',\n",
       " 'hi': 'Hindi',\n",
       " 'hmn': 'Hmong',\n",
       " 'hu': 'Hungarian',\n",
       " 'is': 'Icelandic',\n",
       " 'ig': 'Igbo',\n",
       " 'ilo': 'Ilocano',\n",
       " 'id': 'Indonesian',\n",
       " 'ga': 'Irish',\n",
       " 'it': 'Italian',\n",
       " 'ja': 'Japanese',\n",
       " 'jw': 'Javanese',\n",
       " 'kn': 'Kannada',\n",
       " 'kk': 'Kazakh',\n",
       " 'km': 'Khmer',\n",
       " 'rw': 'Kinyarwanda',\n",
       " 'gom': 'Konkani',\n",
       " 'ko': 'Korean',\n",
       " 'kri': 'Krio',\n",
       " 'ku': 'Kurdish (Kurmanji)',\n",
       " 'ckb': 'Kurdish (Sorani)',\n",
       " 'ky': 'Kyrgyz',\n",
       " 'lo': 'Lao',\n",
       " 'la': 'Latin',\n",
       " 'lv': 'Latvian',\n",
       " 'ln': 'Lingala',\n",
       " 'lt': 'Lithuanian',\n",
       " 'lg': 'Luganda',\n",
       " 'lb': 'Luxembourgish',\n",
       " 'mk': 'Macedonian',\n",
       " 'mai': 'Maithili',\n",
       " 'mg': 'Malagasy',\n",
       " 'ms': 'Malay',\n",
       " 'ml': 'Malayalam',\n",
       " 'mt': 'Maltese',\n",
       " 'mi': 'Maori',\n",
       " 'mr': 'Marathi',\n",
       " 'mni-Mtei': 'Meiteilon (Manipuri)',\n",
       " 'lus': 'Mizo',\n",
       " 'mn': 'Mongolian',\n",
       " 'my': 'Myanmar (Burmese)',\n",
       " 'ne': 'Nepali',\n",
       " 'no': 'Norwegian',\n",
       " 'or': 'Odia (Oriya)',\n",
       " 'om': 'Oromo',\n",
       " 'ps': 'Pashto',\n",
       " 'fa': 'Persian',\n",
       " 'pl': 'Polish',\n",
       " 'pt': 'Portuguese',\n",
       " 'pa': 'Punjabi',\n",
       " 'qu': 'Quechua',\n",
       " 'ro': 'Romanian',\n",
       " 'ru': 'Russian',\n",
       " 'sm': 'Samoan',\n",
       " 'sa': 'Sanskrit',\n",
       " 'gd': 'Scots Gaelic',\n",
       " 'nso': 'Sepedi',\n",
       " 'sr': 'Serbian',\n",
       " 'st': 'Sesotho',\n",
       " 'sn': 'Shona',\n",
       " 'sd': 'Sindhi',\n",
       " 'si': 'Sinhala',\n",
       " 'sk': 'Slovak',\n",
       " 'sl': 'Slovenian',\n",
       " 'so': 'Somali',\n",
       " 'es': 'Spanish',\n",
       " 'su': 'Sundanese',\n",
       " 'sw': 'Swahili',\n",
       " 'sv': 'Swedish',\n",
       " 'tg': 'Tajik',\n",
       " 'ta': 'Tamil',\n",
       " 'tt': 'Tatar',\n",
       " 'te': 'Telugu',\n",
       " 'th': 'Thai',\n",
       " 'ti': 'Tigrinya',\n",
       " 'ts': 'Tsonga',\n",
       " 'tr': 'Turkish',\n",
       " 'tk': 'Turkmen',\n",
       " 'ak': 'Twi',\n",
       " 'uk': 'Ukrainian',\n",
       " 'ur': 'Urdu',\n",
       " 'ug': 'Uyghur',\n",
       " 'uz': 'Uzbek',\n",
       " 'vi': 'Vietnamese',\n",
       " 'cy': 'Welsh',\n",
       " 'xh': 'Xhosa',\n",
       " 'yi': 'Yiddish',\n",
       " 'yo': 'Yoruba',\n",
       " 'zu': 'Zulu',\n",
       " 'zh-TW': 'Chinese (Traditional)',\n",
       " 'zh': 'Chinese'}"
      ]
     },
     "execution_count": 7,
     "metadata": {},
     "output_type": "execute_result"
    }
   ],
   "source": [
    "languages"
   ]
  },
  {
   "cell_type": "code",
   "execution_count": 8,
   "id": "ce5f00ac",
   "metadata": {},
   "outputs": [
    {
     "data": {
      "text/plain": [
       "134"
      ]
     },
     "execution_count": 8,
     "metadata": {},
     "output_type": "execute_result"
    }
   ],
   "source": [
    "len(languages)"
   ]
  },
  {
   "cell_type": "code",
   "execution_count": null,
   "id": "2e42e342",
   "metadata": {},
   "outputs": [],
   "source": []
  }
 ],
 "metadata": {
  "kernelspec": {
   "display_name": "Python 3 (ipykernel)",
   "language": "python",
   "name": "python3"
  },
  "language_info": {
   "codemirror_mode": {
    "name": "ipython",
    "version": 3
   },
   "file_extension": ".py",
   "mimetype": "text/x-python",
   "name": "python",
   "nbconvert_exporter": "python",
   "pygments_lexer": "ipython3",
   "version": "3.11.5"
  }
 },
 "nbformat": 4,
 "nbformat_minor": 5
}
