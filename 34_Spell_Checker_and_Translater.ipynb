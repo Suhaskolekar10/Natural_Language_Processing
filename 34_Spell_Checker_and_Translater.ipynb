{
 "cells": [
  {
   "cell_type": "code",
   "execution_count": 1,
   "id": "f3239eb6",
   "metadata": {},
   "outputs": [
    {
     "name": "stdout",
     "output_type": "stream",
     "text": [
      "Collecting textblob\n",
      "  Using cached textblob-0.17.1-py2.py3-none-any.whl (636 kB)\n",
      "Requirement already satisfied: nltk>=3.1 in /home/dai/anaconda3/lib/python3.11/site-packages (from textblob) (3.8.1)\n",
      "Requirement already satisfied: click in /home/dai/anaconda3/lib/python3.11/site-packages (from nltk>=3.1->textblob) (8.1.7)\n",
      "Requirement already satisfied: joblib in /home/dai/anaconda3/lib/python3.11/site-packages (from nltk>=3.1->textblob) (1.2.0)\n",
      "Requirement already satisfied: regex>=2021.8.3 in /home/dai/anaconda3/lib/python3.11/site-packages (from nltk>=3.1->textblob) (2023.10.3)\n",
      "Requirement already satisfied: tqdm in /home/dai/anaconda3/lib/python3.11/site-packages (from nltk>=3.1->textblob) (4.65.0)\n",
      "Installing collected packages: textblob\n",
      "Successfully installed textblob-0.17.1\n"
     ]
    }
   ],
   "source": [
    "!pip install textblob"
   ]
  },
  {
   "cell_type": "code",
   "execution_count": 3,
   "id": "bdd935d5",
   "metadata": {},
   "outputs": [],
   "source": [
    "from textblob import TextBlob"
   ]
  },
  {
   "cell_type": "code",
   "execution_count": 4,
   "id": "363c65e6",
   "metadata": {},
   "outputs": [],
   "source": [
    "word = 'computer'\n",
    "blob = TextBlob(word)"
   ]
  },
  {
   "cell_type": "code",
   "execution_count": 5,
   "id": "f515e441",
   "metadata": {},
   "outputs": [
    {
     "data": {
      "text/plain": [
       "TextBlob(\"computer\")"
      ]
     },
     "execution_count": 5,
     "metadata": {},
     "output_type": "execute_result"
    }
   ],
   "source": [
    "blob.correct()"
   ]
  },
  {
   "cell_type": "code",
   "execution_count": 6,
   "id": "e48b3d82",
   "metadata": {},
   "outputs": [
    {
     "data": {
      "text/plain": [
       "TextBlob(\"computer\")"
      ]
     },
     "execution_count": 6,
     "metadata": {},
     "output_type": "execute_result"
    }
   ],
   "source": [
    "word = 'komputer'\n",
    "blob = TextBlob(word)\n",
    "\n",
    "blob.correct()"
   ]
  },
  {
   "cell_type": "markdown",
   "id": "0d5042ad",
   "metadata": {},
   "source": [
    "### Sentence_correction"
   ]
  },
  {
   "cell_type": "code",
   "execution_count": 16,
   "id": "dbc5e0b9",
   "metadata": {},
   "outputs": [],
   "source": [
    "sent = \"It was a greate day. When they playd on ground.\""
   ]
  },
  {
   "cell_type": "code",
   "execution_count": 17,
   "id": "f509974b",
   "metadata": {},
   "outputs": [
    {
     "data": {
      "text/plain": [
       "TextBlob(\"It was a great day. When they play on ground.\")"
      ]
     },
     "execution_count": 17,
     "metadata": {},
     "output_type": "execute_result"
    }
   ],
   "source": [
    "blob = TextBlob(sent)\n",
    "\n",
    "blob.correct()"
   ]
  },
  {
   "cell_type": "code",
   "execution_count": 18,
   "id": "2007991f",
   "metadata": {},
   "outputs": [
    {
     "data": {
      "text/plain": [
       "[('It', 'PRP'),\n",
       " ('was', 'VBD'),\n",
       " ('a', 'DT'),\n",
       " ('greate', 'JJ'),\n",
       " ('day', 'NN'),\n",
       " ('When', 'WRB'),\n",
       " ('they', 'PRP'),\n",
       " ('playd', 'VBP'),\n",
       " ('on', 'IN'),\n",
       " ('ground', 'NN')]"
      ]
     },
     "execution_count": 18,
     "metadata": {},
     "output_type": "execute_result"
    }
   ],
   "source": [
    "blob.pos_tags"
   ]
  },
  {
   "cell_type": "code",
   "execution_count": 19,
   "id": "440820db",
   "metadata": {},
   "outputs": [
    {
     "data": {
      "text/plain": [
       "defaultdict(int,\n",
       "            {'it': 1,\n",
       "             'was': 1,\n",
       "             'a': 1,\n",
       "             'greate': 1,\n",
       "             'day': 1,\n",
       "             'when': 1,\n",
       "             'they': 1,\n",
       "             'playd': 1,\n",
       "             'on': 1,\n",
       "             'ground': 1})"
      ]
     },
     "execution_count": 19,
     "metadata": {},
     "output_type": "execute_result"
    }
   ],
   "source": [
    "blob.word_counts"
   ]
  },
  {
   "cell_type": "code",
   "execution_count": 20,
   "id": "5c8bc666",
   "metadata": {},
   "outputs": [
    {
     "data": {
      "text/plain": [
       "TextBlob(\"Era un día del gran. Cuando juegan en el suelo.\")"
      ]
     },
     "execution_count": 20,
     "metadata": {},
     "output_type": "execute_result"
    }
   ],
   "source": [
    "blob.translate(from_lang='en', to='es')"
   ]
  },
  {
   "cell_type": "code",
   "execution_count": 21,
   "id": "ba41323c",
   "metadata": {},
   "outputs": [
    {
     "data": {
      "text/plain": [
       "TextBlob(\"यह एक महान दिन था। जब वे जमीन पर खेलते हैं।\")"
      ]
     },
     "execution_count": 21,
     "metadata": {},
     "output_type": "execute_result"
    }
   ],
   "source": [
    "blob.translate(from_lang='en', to='hi')"
   ]
  },
  {
   "cell_type": "code",
   "execution_count": 22,
   "id": "5e6cfa2e",
   "metadata": {},
   "outputs": [
    {
     "data": {
      "text/plain": [
       "WordList(['It', 'was', 'a', 'greate', 'day', '.', 'When', 'they', 'playd', 'on', 'ground', '.'])"
      ]
     },
     "execution_count": 22,
     "metadata": {},
     "output_type": "execute_result"
    }
   ],
   "source": [
    "blob.tokens"
   ]
  },
  {
   "cell_type": "code",
   "execution_count": 23,
   "id": "11768aa2",
   "metadata": {},
   "outputs": [
    {
     "data": {
      "text/plain": [
       "[Sentence(\"It was a greate day.\"), Sentence(\"When they playd on ground.\")]"
      ]
     },
     "execution_count": 23,
     "metadata": {},
     "output_type": "execute_result"
    }
   ],
   "source": [
    "blob.sentences"
   ]
  },
  {
   "cell_type": "code",
   "execution_count": null,
   "id": "09e63333",
   "metadata": {},
   "outputs": [],
   "source": []
  }
 ],
 "metadata": {
  "kernelspec": {
   "display_name": "Python 3 (ipykernel)",
   "language": "python",
   "name": "python3"
  },
  "language_info": {
   "codemirror_mode": {
    "name": "ipython",
    "version": 3
   },
   "file_extension": ".py",
   "mimetype": "text/x-python",
   "name": "python",
   "nbconvert_exporter": "python",
   "pygments_lexer": "ipython3",
   "version": "3.11.5"
  }
 },
 "nbformat": 4,
 "nbformat_minor": 5
}
