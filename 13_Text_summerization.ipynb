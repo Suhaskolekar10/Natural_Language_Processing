{
 "cells": [
  {
   "cell_type": "code",
   "execution_count": 1,
   "id": "d4255e27",
   "metadata": {},
   "outputs": [
    {
     "name": "stdout",
     "output_type": "stream",
     "text": [
      "Requirement already satisfied: gensim in /home/suhas/anaconda3/lib/python3.11/site-packages (4.3.0)\n",
      "Requirement already satisfied: sumy in /home/suhas/anaconda3/lib/python3.11/site-packages (0.11.0)\n",
      "Requirement already satisfied: transformers in /home/suhas/anaconda3/lib/python3.11/site-packages (4.32.1)\n",
      "Requirement already satisfied: numpy>=1.18.5 in /home/suhas/anaconda3/lib/python3.11/site-packages (from gensim) (1.24.3)\n",
      "Requirement already satisfied: scipy>=1.7.0 in /home/suhas/anaconda3/lib/python3.11/site-packages (from gensim) (1.11.1)\n",
      "Requirement already satisfied: smart-open>=1.8.1 in /home/suhas/anaconda3/lib/python3.11/site-packages (from gensim) (5.2.1)\n",
      "Requirement already satisfied: FuzzyTM>=0.4.0 in /home/suhas/anaconda3/lib/python3.11/site-packages (from gensim) (2.0.5)\n",
      "Requirement already satisfied: docopt<0.7,>=0.6.1 in /home/suhas/anaconda3/lib/python3.11/site-packages (from sumy) (0.6.2)\n",
      "Requirement already satisfied: breadability>=0.1.20 in /home/suhas/anaconda3/lib/python3.11/site-packages (from sumy) (0.1.20)\n",
      "Requirement already satisfied: requests>=2.7.0 in /home/suhas/anaconda3/lib/python3.11/site-packages (from sumy) (2.31.0)\n",
      "Requirement already satisfied: pycountry>=18.2.23 in /home/suhas/anaconda3/lib/python3.11/site-packages (from sumy) (23.12.11)\n",
      "Requirement already satisfied: nltk>=3.0.2 in /home/suhas/anaconda3/lib/python3.11/site-packages (from sumy) (3.8.1)\n",
      "Requirement already satisfied: filelock in /home/suhas/anaconda3/lib/python3.11/site-packages (from transformers) (3.9.0)\n",
      "Requirement already satisfied: huggingface-hub<1.0,>=0.15.1 in /home/suhas/anaconda3/lib/python3.11/site-packages (from transformers) (0.15.1)\n",
      "Requirement already satisfied: packaging>=20.0 in /home/suhas/anaconda3/lib/python3.11/site-packages (from transformers) (23.1)\n",
      "Requirement already satisfied: pyyaml>=5.1 in /home/suhas/anaconda3/lib/python3.11/site-packages (from transformers) (6.0)\n",
      "Requirement already satisfied: regex!=2019.12.17 in /home/suhas/anaconda3/lib/python3.11/site-packages (from transformers) (2022.7.9)\n",
      "Requirement already satisfied: tokenizers!=0.11.3,<0.14,>=0.11.1 in /home/suhas/anaconda3/lib/python3.11/site-packages (from transformers) (0.13.2)\n",
      "Requirement already satisfied: safetensors>=0.3.1 in /home/suhas/anaconda3/lib/python3.11/site-packages (from transformers) (0.3.2)\n",
      "Requirement already satisfied: tqdm>=4.27 in /home/suhas/anaconda3/lib/python3.11/site-packages (from transformers) (4.65.0)\n",
      "Requirement already satisfied: chardet in /home/suhas/anaconda3/lib/python3.11/site-packages (from breadability>=0.1.20->sumy) (4.0.0)\n",
      "Requirement already satisfied: lxml>=2.0 in /home/suhas/anaconda3/lib/python3.11/site-packages (from breadability>=0.1.20->sumy) (4.9.3)\n",
      "Requirement already satisfied: pandas in /home/suhas/anaconda3/lib/python3.11/site-packages (from FuzzyTM>=0.4.0->gensim) (2.0.3)\n",
      "Requirement already satisfied: pyfume in /home/suhas/anaconda3/lib/python3.11/site-packages (from FuzzyTM>=0.4.0->gensim) (0.2.25)\n",
      "Requirement already satisfied: fsspec in /home/suhas/anaconda3/lib/python3.11/site-packages (from huggingface-hub<1.0,>=0.15.1->transformers) (2023.4.0)\n",
      "Requirement already satisfied: typing-extensions>=3.7.4.3 in /home/suhas/anaconda3/lib/python3.11/site-packages (from huggingface-hub<1.0,>=0.15.1->transformers) (4.7.1)\n",
      "Requirement already satisfied: click in /home/suhas/anaconda3/lib/python3.11/site-packages (from nltk>=3.0.2->sumy) (8.0.4)\n",
      "Requirement already satisfied: joblib in /home/suhas/anaconda3/lib/python3.11/site-packages (from nltk>=3.0.2->sumy) (1.2.0)\n",
      "Requirement already satisfied: charset-normalizer<4,>=2 in /home/suhas/anaconda3/lib/python3.11/site-packages (from requests>=2.7.0->sumy) (2.0.4)\n",
      "Requirement already satisfied: idna<4,>=2.5 in /home/suhas/anaconda3/lib/python3.11/site-packages (from requests>=2.7.0->sumy) (3.4)\n",
      "Requirement already satisfied: urllib3<3,>=1.21.1 in /home/suhas/anaconda3/lib/python3.11/site-packages (from requests>=2.7.0->sumy) (1.26.16)\n",
      "Requirement already satisfied: certifi>=2017.4.17 in /home/suhas/anaconda3/lib/python3.11/site-packages (from requests>=2.7.0->sumy) (2023.7.22)\n",
      "Requirement already satisfied: python-dateutil>=2.8.2 in /home/suhas/anaconda3/lib/python3.11/site-packages (from pandas->FuzzyTM>=0.4.0->gensim) (2.8.2)\n",
      "Requirement already satisfied: pytz>=2020.1 in /home/suhas/anaconda3/lib/python3.11/site-packages (from pandas->FuzzyTM>=0.4.0->gensim) (2023.3.post1)\n",
      "Requirement already satisfied: tzdata>=2022.1 in /home/suhas/anaconda3/lib/python3.11/site-packages (from pandas->FuzzyTM>=0.4.0->gensim) (2023.3)\n",
      "Requirement already satisfied: simpful in /home/suhas/anaconda3/lib/python3.11/site-packages (from pyfume->FuzzyTM>=0.4.0->gensim) (2.11.1)\n",
      "Requirement already satisfied: fst-pso in /home/suhas/anaconda3/lib/python3.11/site-packages (from pyfume->FuzzyTM>=0.4.0->gensim) (1.8.1)\n",
      "Requirement already satisfied: six>=1.5 in /home/suhas/anaconda3/lib/python3.11/site-packages (from python-dateutil>=2.8.2->pandas->FuzzyTM>=0.4.0->gensim) (1.16.0)\n",
      "Requirement already satisfied: miniful in /home/suhas/anaconda3/lib/python3.11/site-packages (from fst-pso->pyfume->FuzzyTM>=0.4.0->gensim) (0.0.6)\n"
     ]
    }
   ],
   "source": [
    "!pip install gensim sumy transformers"
   ]
  },
  {
   "cell_type": "code",
   "execution_count": 2,
   "id": "417c3b58",
   "metadata": {},
   "outputs": [],
   "source": [
    "#Import the TextRank Summerizer\n",
    "from sumy.summarizers.text_rank import TextRankSummarizer\n",
    "\n",
    "#Importing the parser and tokenizer\n",
    "from sumy.parsers.plaintext import PlaintextParser\n",
    "from sumy.nlp.tokenizers import Tokenizer"
   ]
  },
  {
   "cell_type": "code",
   "execution_count": 3,
   "id": "2cdf1cb2",
   "metadata": {},
   "outputs": [],
   "source": [
    "import nltk\n",
    "#nltk.download('punkt')"
   ]
  },
  {
   "cell_type": "code",
   "execution_count": 4,
   "id": "7e50f76c",
   "metadata": {},
   "outputs": [],
   "source": [
    "text = '''The Bengal tiger is a population of the Panthera tigris tigris subspecies and the nominate tiger subspecies.[1] It ranks among the biggest wild cats alive today.[2][3] It is considered to belong to the world's charismatic megafauna.[4]\n",
    "\n",
    "The tiger is estimated to have been present in the Indian subcontinent since the Late Pleistocene, for about 12,000 to 16,500 years.[5][6][7] Today, it is threatened by poaching, loss and fragmentation of habitat, and was estimated at comprising fewer than 2,500 wild individuals by 2011. None of the Tiger Conservation Landscapes within its range is considered large enough to support an effective population of more than 250 adult individuals.[8]\n",
    "\n",
    "The Bengal tiger's historical range covered the Indus River valley until the early 19th century, almost all of India, Pakistan, southern Nepal, Bangladesh, Bhutan, and southwestern China. Today, it inhabits India, Bangladesh, Nepal, Bhutan, and southwestern China.[6] India's tiger population was estimated at 2,603–3,346 individuals by 2018.[9] Around 300–500 individuals are estimated in Bangladesh,[8] 355 in Nepal by 2022,[10] and 90 individuals in Bhutan by 2015. Felis tigris was the scientific name used by Carl Linnaeus in 1758 for the tiger.[12] It was subordinated to the genus Panthera by Reginald Innes Pocock in 1929. Bengal is the traditional type locality of the species and the nominate subspecies Panthera tigris tigris.[13]\n",
    "\n",
    "The validity of several tiger subspecies in continental Asia was questioned in 1999. Morphologically, tigers from different regions vary little, and gene flow between populations in those regions is considered to have been possible during the Pleistocene. Therefore, it was proposed to recognise only two subspecies as valid, namely P. t. tigris in mainland Asia, and P. t. sondaica in the Greater Sunda Islands and possibly in Sundaland.[14] The nominate subspecies P. t. tigris constitutes two clades: the northern clade comprises the Siberian and Caspian tiger populations, and the southern clade all remaining continental tiger populations.[15] The extinct and living tiger populations in continental Asia have been subsumed to P. t. tigris since the revision of felid taxonomy in 2017.[1]\n",
    "\n",
    "Results of a genetic analysis of 32 tiger samples indicate that the Bengal tiger samples grouped into a different clade than the Siberian tiger samples.[16] '''"
   ]
  },
  {
   "cell_type": "code",
   "execution_count": 5,
   "id": "ee1c94fd",
   "metadata": {},
   "outputs": [],
   "source": [
    "from nltk.tokenize import sent_tokenize\n",
    "token = sent_tokenize(text)"
   ]
  },
  {
   "cell_type": "code",
   "execution_count": 6,
   "id": "cb357c6e",
   "metadata": {},
   "outputs": [
    {
     "data": {
      "text/plain": [
       "20"
      ]
     },
     "execution_count": 6,
     "metadata": {},
     "output_type": "execute_result"
    }
   ],
   "source": [
    "len(token)"
   ]
  },
  {
   "cell_type": "code",
   "execution_count": 7,
   "id": "29309795",
   "metadata": {},
   "outputs": [],
   "source": [
    "#initializing the parser\n",
    "my_parser =PlaintextParser.from_string(text,Tokenizer('english'))"
   ]
  },
  {
   "cell_type": "code",
   "execution_count": 8,
   "id": "b0d3d040",
   "metadata": {},
   "outputs": [],
   "source": [
    "# Creating a summary of 3 sentences.\n",
    "tex_rank_summarizer = TextRankSummarizer()\n",
    "summary = tex_rank_summarizer(my_parser.document,sentences_count=3)"
   ]
  },
  {
   "cell_type": "code",
   "execution_count": 9,
   "id": "471edbe8",
   "metadata": {},
   "outputs": [
    {
     "data": {
      "text/plain": [
       "(<Sentence: The Bengal tiger is a population of the Panthera tigris tigris subspecies and the nominate tiger subspecies.>,\n",
       " <Sentence: The tiger is estimated to have been present in the Indian subcontinent since the Late Pleistocene, for about 12,000 to 16,500 years.>,\n",
       " <Sentence: [14] The nominate subspecies P. t. tigris constitutes two clades: the northern clade comprises the Siberian and Caspian tiger populations, and the southern clade all remaining continental tiger populations.>)"
      ]
     },
     "execution_count": 9,
     "metadata": {},
     "output_type": "execute_result"
    }
   ],
   "source": [
    "summary"
   ]
  },
  {
   "cell_type": "code",
   "execution_count": 10,
   "id": "53aea8b3",
   "metadata": {},
   "outputs": [
    {
     "name": "stdout",
     "output_type": "stream",
     "text": [
      "sentence:- History[edit] The fort has stood witness to many significant historic events including the birth of Chhatrapati Shivaji's son Rajaram I, the death of Shivaji's wife Saibai, the return of Shivaji from Agra, the burial of Afzal Khan's head in the Mahadarwaja walls of Balle Killa, the strict words of Sonopant Dabir to Shivaji. \n",
      "\n",
      "\n",
      "sentence:- Amazing Maharashtra Rajgad Fort Information in Marathi Pune Trekkers vteForts in MaharashtraAhmednagar district Ahmednagar Fort Bahadurgad Bhairavgad Bitangad Harishchandragad Kaladgad Kharda Kunjargad Madan Fort Manjarsumbha fort Pabargad Patta Fort Ratangad Akola district Akola Fort Balapur Narnala Amravati district Amner Fort Gawilghur Aurangabad district Antur Fort Daulatabad Fort Chandrapur district Chandrapur Fort Ballarpur Fort Bhadravati Fort Manikgad Dhule district Bhamer Laling Thalner Kolhapur district Bhudargad Gandharvgad Panhala Pargadh Pavangad Samangad Vishalgad Latur district Udgir Mumbai City district Bombay Castle Dongri Fort Fort George Mahim Fort Mazagon Fort Riwa Fort Sewri Fort Sion Hillock Fort Worli Fort Mumbai Suburban district Castella de Aguada Madh Nagpur district Sitabuldi Nanded district Kandhar Fort Nashik district Aavandhagad Achala Fort Ahivant Fort Alang Anjaneri Ankai Fort Bahulagad Bhaskargad Chandwad Chauler Fort Dermal Dhodap Hargad Harihar fort Hatgad Indrai Kanchangad Kanhergad Kavnai fort Kulang Madangad Malegaon Mangi-Tungi Moragad Mulher Nhavigad Rajdher fort Ramsej Salher Salota Saptashrungi Tankai fort Tringalwadi Waghera Osmanabad district Naldurg Fort Paranda Fort Palghar district Bassein Kaldurg Tandulwadi Pune district Anghaai Fort Bhorgiri Fort Chawand Dhakoba Ghangad Hadsar Fort Induri Fort Jivdhan Kailasgad Kawla Korigad/Koraigad Lohagad Malhargad Manaranjan Mangalgad Morgiri Fort Narayangad Nimgiri Purandar Rajgad Rajmachi Rayri Fort Rohida Sangram Durg Sindola Fort Shaniwar Wada Shivneri Shrivardhan Sinhagad Tikona Torna Tung Vajragad Fort Visapur Raigad district Agarkot Avchitgad Bhimashankar Fort Birwadi Chambhargad Chandragad Dhak Bahiri Dronagiri Gadad Bahiri Ghangad Ghosalgad Irshalgad Karnala Khaderi Khanderi Kondhawi Fort Korlai Kothaligad Peb fort Kulaba Kurdugad Lingana Maangad Madgad Malanggad Mangalgad (Kangori) Manikgad Mirgad Mrugagad Murud-Janjira Padargad Padmadurg/ Kasa Fort Prabalgad Raigad Ratnagad Revdanda Sagargad Samrajgad Sankshi Fort Sarasgad Sarjekot Songad Songiri Fort Sudhagad Surgad Talagad Underi Vikatgad Peb fort Ratnagiri district Aambolgad Anjanwel Bankot Gowalkot Jaigad Kanakdurg Mahipatgad Mandangad Prachitgad Prunagad Rasalgad Ratnagiri (Ratnadurg) Sumargad Suvarnadurg Yashwantgad Satara district Ajinkyatara Bhairavgad Bhushangad Chandan-Vandan Dategad Gunavantgad Jangali Jayagad Kalyangad Kamalgad Kenjalgad Mahimangad Pandavgad Prachitgad Pratapgad Sajjangad Santoshgad Vairatgad Vardhangad Varugad Vasantgad Vasota Sindhudurg district Aasavgad Bharatgad Rajkot Fort Sanrjekot Sindhudurg Vijaydurg Thane district Aasawa Arnala Asherigad Ballalgad Balwantgad Belapur Fort Bhairavgad Bhandargad Bhavanigad Bhupatgad Chanderigad Dahanugad Daulatmandal Dharavi Durgadi Fort Gambhirgad Ghodbunder Fort Gorakhgad Gotara Jivdhaanigad Kamandurg Kelwegad Kohojgad Mahuli Malang gad Palasgad Pankot Tahuli Shirgav Fort Jalna district Jalna Fort(Mastgarh) Rohilagarh Jafrabad Qila \n",
      "\n",
      "\n",
      "sentence:- vte Forts in IndiaAhom dynasty Talatal Ghar Kareng Ghar Rang Ghar Garchuk Lachit Garh Bahmani Sultanate Bidar Gulbarga British Raj Anchuthengu St. George William Bombay Riwa Worli Mazagon Sion Hillock Sewri Mahim Tellicherry St. David Deccan sultanates Ahmednagar Daulatabad Gawilghur Golconda Jalna Fort(Mastgarh) Narnala Panhala Delhi Sultanate Aligarh Bandhavgarh Hathras Qila Mubarak Siri Tughlaqabad Salimgarh Eastern Ganga dynasty Barabati Raibania Faruqi dynasty Asirgarh Laling Thalner Gujarat Sultanate Bhadra Jat Bawana Fort Gohad Lohagarh Nahar Singh Mahal Kakatiya dynasty Warangal Kingdom of Mysore Devanahalli Palakkad Bekal Sankagiri Malwa Sultanate Mandsaur Mandavgadh Maratha Empire Dongri Harishchandragad Kolaba Lohagad Sudhagad Sinhagad Tikona Panhala Pratapgad Vishalgad Rajgad Sindhudurg Vijaydurg Shivneri Raigad Gajendragarh Gingee Shaniwar Wada Jhansi Hinglajgarh Manora Visapur Sadashivgad Mughal Empire Purana Qila Chanderi Agra Allahabad Fatehpur Sikri Red Akola Hari Parbat Fort Ramnagar Nayak dynasty Chitradurga Bekal Dindigul Gingee Tiruchirapalli Rock Chandragiri Fort Hosdurg Portuguese Bassein Fort Bombay Castle Mahim Arnala Castella de Aguada Diu Fort Surat Castle Fortim do Mar, Diu Fortim do Mar, Simbor Emmanuel Fort Anjediva Korlai Madh Fort St Thomas, Tangasseri St. Angelo Pallipuram Aguada Fort Tiracol Anjediva Cranganore Ghodbunder Fortaleza de Chaul Ponda Fort Chapora Fort Fortaleza de São Sebastião de Tivim Cabo de Rama Corjuem Fort Mormugão fort Rachol Fort Fort of São Tiago of Banastarim Rajputs Achalgarh Amber Bhangarh Chittor Jaigarh Jaisalmer Jalore Junagarh Kankwadi Kumbhalgarh Nahargarh Qila Rai Pithora Taragarh Lal Kot Gwalior Kalinjar Hinglajgarh Mehrangarh Narwar Senapati fortress Sabalgarh Bahu Kangra Ranthambore Bhatner fort Sikh Empire Kamlah Siddi Murud-Janjira Belapur Underi Sur Empire Chunar Rohtasgarh Munger Travancore Vattakottai Udayagiri East Vijayanagara Chandragiri Gingee Bangalore Udayagiri Vellore \n",
      "\n",
      "\n"
     ]
    }
   ],
   "source": [
    "# make a function\n",
    "import urllib\n",
    "from bs4 import BeautifulSoup\n",
    "from nltk.tokenize import sent_tokenize\n",
    "\n",
    "url = urllib.request.urlopen('https://en.wikipedia.org/wiki/Rajgad_Fort')\n",
    "data=url.read()\n",
    "\n",
    "soup = BeautifulSoup(data,'html.parser')\n",
    "text =soup.get_text()\n",
    "\n",
    "token = sent_tokenize(text)  #for checking the no of sentences in the text..\n",
    "\n",
    "#initializing the parser\n",
    "my_parser =PlaintextParser.from_string(text,Tokenizer('english'))\n",
    "\n",
    "# Creating a summary of 3 sentences.\n",
    "tex_rank_summarizer = TextRankSummarizer()\n",
    "summary = tex_rank_summarizer(my_parser.document,sentences_count=3)\n",
    "\n",
    "for sent in summary:\n",
    "    print('sentence:-',sent,\"\\n\\n\")\n",
    "    "
   ]
  },
  {
   "cell_type": "markdown",
   "id": "49d04795",
   "metadata": {},
   "source": [
    "### Lex_Rank summerizer "
   ]
  },
  {
   "cell_type": "code",
   "execution_count": 11,
   "id": "05d86f74",
   "metadata": {},
   "outputs": [
    {
     "data": {
      "text/plain": [
       "(<Sentence: Rajgad Fort>,\n",
       " <Sentence: 1662 January The construction of the Rajgad fort was completed and Shivaji returned to the fort after capturing Pen and Kalyan.>,\n",
       " <Sentence: The Fort>)"
      ]
     },
     "execution_count": 11,
     "metadata": {},
     "output_type": "execute_result"
    }
   ],
   "source": [
    "# Import the LexRank SUmmmarizer\n",
    "from sumy.summarizers.lex_rank import LexRankSummarizer\n",
    "\n",
    "# url = urllib.request.urlopen('https://en.wikipedia.org/wiki/Bengal_tiger')\n",
    "# data=url.read()\n",
    "# soup = BeautifulSoup(data,'html.parser')\n",
    "# text =soup.get_text()\n",
    "\n",
    "# Initalizing the parser\n",
    "my_parser = PlaintextParser.from_string(text,Tokenizer('english'))\n",
    "\n",
    "# Creatin a summary of 3 sentences\n",
    "lex_tank_summarizer = LexRankSummarizer()\n",
    "summary = lex_tank_summarizer(my_parser.document,sentences_count=3)\n",
    "summary"
   ]
  },
  {
   "cell_type": "markdown",
   "id": "cdfbee92",
   "metadata": {},
   "source": [
    "###  LSA Summarizer"
   ]
  },
  {
   "cell_type": "code",
   "execution_count": 12,
   "id": "77ac5a7b",
   "metadata": {},
   "outputs": [
    {
     "name": "stdout",
     "output_type": "stream",
     "text": [
      "sentence:- This fort was built on a hill called Murumbadevi Dongar (mountain of the goddess Murumba). \n",
      "\n",
      "\n",
      "sentence:- Villagers from the foothills of Rajgad sell local antiques and items to these tourists. \n",
      "\n",
      "\n",
      "sentence:- vte Maratha EmpireChhatrapatis Shivaji Sambhaji Rajaram I Tarabai Shahu I Rajaram II Shahu II Pratap Singh Peshwas Moropant Trimbak Pingle Moreshvar Pingale Ramchandra Pant Amatya Bahiroji Pingale Balaji Vishwanath Baji Rao I Balaji Baji Rao Madhavrao Ballal Narayan Rao Raghunathrao Sawai Madhavrao Baji Rao II Amrut Rao Nana Sahib Bhat family Amatya & Pratinidhi Ramchandra Pant Amatya Pralhad Niraji Parshuram Pant Pratinidhi (hereditary) Shripatrao Pant Pratinidhi Jagjivanrao Pant Pratinidhi Women Ahilyabai Holkar Anandibai Gopikabai Jankibai Jijabai Kashibai Lakshmibai Mastani Parvatibai Putalabai Ramabai Saibai Sakvarbai Soyarabai Umabai Dabhade Baka Bai Tulsi Bai Holkar Maratha Confederacy Bhonsle of Nagpur Gaekwad of Baroda Scindia of Gwalior Holkar of Indore Patwardhan dynasty Battles Pratapgarh Kolhapur Pavan Khind Umberkhind Chakan Surat Purandar Sinhagad Salher Kalyan Bhupalgarh Sangamner Bijapur Raigarh (1689) Jinji Satara Khelna Raigarh Torna Palkhed Malwa Mandsaur 1st Delhi Bhopal Vasai 1st Trichinopoly Katwa (1st) 2nd Trichinopoly Katwa (2nd) Invasions of Bengal Burdwan Narela 2nd Delhi North-west India Peshawar Lahore Udgir 3rd Panipat Alegaon Rakshasbhuvan Capture of Delhi Pachgaon Saunshi Wadgaon Adoni Badami Savanur Gajendragad Bahadur Benda Lalsot Chaksana Patan Kharda Poona 3rd Delhi Assaye Laswari Farrukhabad Bharatpur Khadki Koregaon Mahidpur Wars Maratha-Mughal War of 27 years Maratha–Mysore War First Anglo-Maratha War Second Anglo-Maratha War Third Anglo-Maratha War Adversaries Adilshahi Qutbshahi Mughal Empire Durrani Empire British Empire Portuguese Empire Nizam of Hyderabad Mysore Forts Mangad Panhala Pratapgad Purandar Raigad Rajgad Shaniwar Wada Shivneri Sindhudurg Rajgad Torna Coins Shivrai \n",
      "\n",
      "\n"
     ]
    }
   ],
   "source": [
    "from sumy.summarizers.lsa import LsaSummarizer\n",
    "\n",
    "# url = urllib.request.urlopen('https://en.wikipedia.org/wiki/India')\n",
    "# data=url.read()\n",
    "# soup = BeautifulSoup(data,'html.parser')\n",
    "# text =soup.get_text()\n",
    "\n",
    "#Creating a summary of 3 sentences\n",
    "my_parser = PlaintextParser.from_string(text,Tokenizer('english'))\n",
    "lsa_tank_summarizer = LsaSummarizer()\n",
    "summary = lsa_tank_summarizer(my_parser.document,sentences_count=3)\n",
    "\n",
    "\n",
    "for sent in summary:\n",
    "    print('sentence:-',sent,\"\\n\\n\")\n",
    "    "
   ]
  }
 ],
 "metadata": {
  "kernelspec": {
   "display_name": "Python 3 (ipykernel)",
   "language": "python",
   "name": "python3"
  },
  "language_info": {
   "codemirror_mode": {
    "name": "ipython",
    "version": 3
   },
   "file_extension": ".py",
   "mimetype": "text/x-python",
   "name": "python",
   "nbconvert_exporter": "python",
   "pygments_lexer": "ipython3",
   "version": "3.11.5"
  }
 },
 "nbformat": 4,
 "nbformat_minor": 5
}
