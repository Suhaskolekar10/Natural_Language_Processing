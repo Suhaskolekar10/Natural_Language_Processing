{
 "cells": [
  {
   "cell_type": "markdown",
   "id": "7489062b",
   "metadata": {},
   "source": [
    "### 1. Bag_of _word_Manually\n",
    " This vectorization technique converts the text content to numerical feature vectors. It takes a document from a corpus and converts it into a numeric vector by mapping each document word to a feature vector for the machine learning model "
   ]
  },
  {
   "cell_type": "code",
   "execution_count": 1,
   "id": "2c5a3b4b",
   "metadata": {},
   "outputs": [],
   "source": [
    "from nltk.tokenize import word_tokenize\n",
    "from collections import Counter\n",
    "import pandas as pd"
   ]
  },
  {
   "cell_type": "code",
   "execution_count": 2,
   "id": "4666b49c",
   "metadata": {},
   "outputs": [],
   "source": [
    "sentence1 = 'The quick brown fox jumps over the lazy dog.'\n",
    "sentence2 = 'The cat chases the mouse and it squakes loudly'\n",
    "\n",
    "token = word_tokenize(sentence1.lower()) + word_tokenize(sentence2.lower())"
   ]
  },
  {
   "cell_type": "code",
   "execution_count": 3,
   "id": "7ac09f7e",
   "metadata": {},
   "outputs": [],
   "source": [
    "tokens = set(token)"
   ]
  },
  {
   "cell_type": "code",
   "execution_count": 4,
   "id": "d3696b19",
   "metadata": {},
   "outputs": [],
   "source": [
    "df = pd.DataFrame({},index =[1,2] ,columns=list(tokens) )"
   ]
  },
  {
   "cell_type": "code",
   "execution_count": 5,
   "id": "d7fd3f2b",
   "metadata": {},
   "outputs": [
    {
     "data": {
      "text/html": [
       "<div>\n",
       "<style scoped>\n",
       "    .dataframe tbody tr th:only-of-type {\n",
       "        vertical-align: middle;\n",
       "    }\n",
       "\n",
       "    .dataframe tbody tr th {\n",
       "        vertical-align: top;\n",
       "    }\n",
       "\n",
       "    .dataframe thead th {\n",
       "        text-align: right;\n",
       "    }\n",
       "</style>\n",
       "<table border=\"1\" class=\"dataframe\">\n",
       "  <thead>\n",
       "    <tr style=\"text-align: right;\">\n",
       "      <th></th>\n",
       "      <th>brown</th>\n",
       "      <th>dog</th>\n",
       "      <th>and</th>\n",
       "      <th>the</th>\n",
       "      <th>fox</th>\n",
       "      <th>lazy</th>\n",
       "      <th>chases</th>\n",
       "      <th>it</th>\n",
       "      <th>.</th>\n",
       "      <th>jumps</th>\n",
       "      <th>over</th>\n",
       "      <th>mouse</th>\n",
       "      <th>cat</th>\n",
       "      <th>quick</th>\n",
       "      <th>squakes</th>\n",
       "      <th>loudly</th>\n",
       "    </tr>\n",
       "  </thead>\n",
       "  <tbody>\n",
       "    <tr>\n",
       "      <th>1</th>\n",
       "      <td>NaN</td>\n",
       "      <td>NaN</td>\n",
       "      <td>NaN</td>\n",
       "      <td>NaN</td>\n",
       "      <td>NaN</td>\n",
       "      <td>NaN</td>\n",
       "      <td>NaN</td>\n",
       "      <td>NaN</td>\n",
       "      <td>NaN</td>\n",
       "      <td>NaN</td>\n",
       "      <td>NaN</td>\n",
       "      <td>NaN</td>\n",
       "      <td>NaN</td>\n",
       "      <td>NaN</td>\n",
       "      <td>NaN</td>\n",
       "      <td>NaN</td>\n",
       "    </tr>\n",
       "    <tr>\n",
       "      <th>2</th>\n",
       "      <td>NaN</td>\n",
       "      <td>NaN</td>\n",
       "      <td>NaN</td>\n",
       "      <td>NaN</td>\n",
       "      <td>NaN</td>\n",
       "      <td>NaN</td>\n",
       "      <td>NaN</td>\n",
       "      <td>NaN</td>\n",
       "      <td>NaN</td>\n",
       "      <td>NaN</td>\n",
       "      <td>NaN</td>\n",
       "      <td>NaN</td>\n",
       "      <td>NaN</td>\n",
       "      <td>NaN</td>\n",
       "      <td>NaN</td>\n",
       "      <td>NaN</td>\n",
       "    </tr>\n",
       "  </tbody>\n",
       "</table>\n",
       "</div>"
      ],
      "text/plain": [
       "  brown  dog  and  the  fox lazy chases   it    . jumps over mouse  cat quick  \\\n",
       "1   NaN  NaN  NaN  NaN  NaN  NaN    NaN  NaN  NaN   NaN  NaN   NaN  NaN   NaN   \n",
       "2   NaN  NaN  NaN  NaN  NaN  NaN    NaN  NaN  NaN   NaN  NaN   NaN  NaN   NaN   \n",
       "\n",
       "  squakes loudly  \n",
       "1     NaN    NaN  \n",
       "2     NaN    NaN  "
      ]
     },
     "execution_count": 5,
     "metadata": {},
     "output_type": "execute_result"
    }
   ],
   "source": [
    "df"
   ]
  },
  {
   "cell_type": "code",
   "execution_count": 6,
   "id": "6fcb34f8",
   "metadata": {},
   "outputs": [],
   "source": [
    "token1 = word_tokenize(sentence1.lower())\n",
    "token2 = word_tokenize(sentence2.lower())"
   ]
  },
  {
   "cell_type": "code",
   "execution_count": 7,
   "id": "ffeff822",
   "metadata": {},
   "outputs": [],
   "source": [
    "counts1 = [token1.count(x) for x in df.columns]\n",
    "counts2 = [token2.count(x) for x in df.columns]"
   ]
  },
  {
   "cell_type": "code",
   "execution_count": 8,
   "id": "bfb7571b",
   "metadata": {},
   "outputs": [],
   "source": [
    "df.iloc[0:] = counts1\n",
    "df.iloc[1:] = counts2"
   ]
  },
  {
   "cell_type": "code",
   "execution_count": 9,
   "id": "27bf9d89",
   "metadata": {},
   "outputs": [
    {
     "data": {
      "text/html": [
       "<div>\n",
       "<style scoped>\n",
       "    .dataframe tbody tr th:only-of-type {\n",
       "        vertical-align: middle;\n",
       "    }\n",
       "\n",
       "    .dataframe tbody tr th {\n",
       "        vertical-align: top;\n",
       "    }\n",
       "\n",
       "    .dataframe thead th {\n",
       "        text-align: right;\n",
       "    }\n",
       "</style>\n",
       "<table border=\"1\" class=\"dataframe\">\n",
       "  <thead>\n",
       "    <tr style=\"text-align: right;\">\n",
       "      <th></th>\n",
       "      <th>brown</th>\n",
       "      <th>dog</th>\n",
       "      <th>and</th>\n",
       "      <th>the</th>\n",
       "      <th>fox</th>\n",
       "      <th>lazy</th>\n",
       "      <th>chases</th>\n",
       "      <th>it</th>\n",
       "      <th>.</th>\n",
       "      <th>jumps</th>\n",
       "      <th>over</th>\n",
       "      <th>mouse</th>\n",
       "      <th>cat</th>\n",
       "      <th>quick</th>\n",
       "      <th>squakes</th>\n",
       "      <th>loudly</th>\n",
       "    </tr>\n",
       "  </thead>\n",
       "  <tbody>\n",
       "    <tr>\n",
       "      <th>1</th>\n",
       "      <td>1</td>\n",
       "      <td>1</td>\n",
       "      <td>0</td>\n",
       "      <td>2</td>\n",
       "      <td>1</td>\n",
       "      <td>1</td>\n",
       "      <td>0</td>\n",
       "      <td>0</td>\n",
       "      <td>1</td>\n",
       "      <td>1</td>\n",
       "      <td>1</td>\n",
       "      <td>0</td>\n",
       "      <td>0</td>\n",
       "      <td>1</td>\n",
       "      <td>0</td>\n",
       "      <td>0</td>\n",
       "    </tr>\n",
       "    <tr>\n",
       "      <th>2</th>\n",
       "      <td>0</td>\n",
       "      <td>0</td>\n",
       "      <td>1</td>\n",
       "      <td>2</td>\n",
       "      <td>0</td>\n",
       "      <td>0</td>\n",
       "      <td>1</td>\n",
       "      <td>1</td>\n",
       "      <td>0</td>\n",
       "      <td>0</td>\n",
       "      <td>0</td>\n",
       "      <td>1</td>\n",
       "      <td>1</td>\n",
       "      <td>0</td>\n",
       "      <td>1</td>\n",
       "      <td>1</td>\n",
       "    </tr>\n",
       "  </tbody>\n",
       "</table>\n",
       "</div>"
      ],
      "text/plain": [
       "  brown dog and the fox lazy chases it  . jumps over mouse cat quick squakes  \\\n",
       "1     1   1   0   2   1    1      0  0  1     1    1     0   0     1       0   \n",
       "2     0   0   1   2   0    0      1  1  0     0    0     1   1     0       1   \n",
       "\n",
       "  loudly  \n",
       "1      0  \n",
       "2      1  "
      ]
     },
     "execution_count": 9,
     "metadata": {},
     "output_type": "execute_result"
    }
   ],
   "source": [
    "df"
   ]
  },
  {
   "cell_type": "markdown",
   "id": "69aaaed0",
   "metadata": {},
   "source": [
    "### Vectorization : -\n",
    "1. In Natural Language Processing (NLP), vectorization is the process of converting text data into numerical vectors. These numerical vectors are used as input for machine learning models. \n",
    "2. The process of vectorization allows machines to understand and interpret text data "
   ]
  },
  {
   "cell_type": "markdown",
   "id": "26cb21f0",
   "metadata": {},
   "source": [
    "### 1. ***Count Vectorizer*** : \n",
    "1. This is one of the simplest ways of doing text vectorization. It creates a document term matrix, which is a set of dummy variables indicating if a particular word appears in the document. \n",
    "2. Count vectorizer will fit and learn the word vocabulary and try to create a document term matrix in which the individual cells denote the frequency of that word in a particular document, also known as term frequency, and the columns are dedicated to each word in the corpus"
   ]
  },
  {
   "cell_type": "code",
   "execution_count": 10,
   "id": "ded44805",
   "metadata": {},
   "outputs": [],
   "source": [
    "from sklearn.feature_extraction.text import CountVectorizer\n",
    "import pandas as pd"
   ]
  },
  {
   "cell_type": "code",
   "execution_count": 11,
   "id": "0d239c40",
   "metadata": {},
   "outputs": [],
   "source": [
    "sentence1 = 'The quick brown fox jumps over the lazy dog.'\n",
    "sentence2 = 'The cat chases the mouse and it squakes loudly'"
   ]
  },
  {
   "cell_type": "code",
   "execution_count": 12,
   "id": "1f2163b0",
   "metadata": {},
   "outputs": [],
   "source": [
    "cv = CountVectorizer(ngram_range=(1,2))\n",
    "\n",
    "x_vect = cv.fit_transform([sentence1,sentence2])"
   ]
  },
  {
   "cell_type": "code",
   "execution_count": 13,
   "id": "03c4b48f",
   "metadata": {},
   "outputs": [],
   "source": [
    "columns = cv.get_feature_names_out()"
   ]
  },
  {
   "cell_type": "code",
   "execution_count": 14,
   "id": "c88dd090",
   "metadata": {},
   "outputs": [
    {
     "data": {
      "text/html": [
       "<div>\n",
       "<style scoped>\n",
       "    .dataframe tbody tr th:only-of-type {\n",
       "        vertical-align: middle;\n",
       "    }\n",
       "\n",
       "    .dataframe tbody tr th {\n",
       "        vertical-align: top;\n",
       "    }\n",
       "\n",
       "    .dataframe thead th {\n",
       "        text-align: right;\n",
       "    }\n",
       "</style>\n",
       "<table border=\"1\" class=\"dataframe\">\n",
       "  <thead>\n",
       "    <tr style=\"text-align: right;\">\n",
       "      <th></th>\n",
       "      <th>and</th>\n",
       "      <th>and it</th>\n",
       "      <th>brown</th>\n",
       "      <th>brown fox</th>\n",
       "      <th>cat</th>\n",
       "      <th>cat chases</th>\n",
       "      <th>chases</th>\n",
       "      <th>chases the</th>\n",
       "      <th>dog</th>\n",
       "      <th>fox</th>\n",
       "      <th>...</th>\n",
       "      <th>over the</th>\n",
       "      <th>quick</th>\n",
       "      <th>quick brown</th>\n",
       "      <th>squakes</th>\n",
       "      <th>squakes loudly</th>\n",
       "      <th>the</th>\n",
       "      <th>the cat</th>\n",
       "      <th>the lazy</th>\n",
       "      <th>the mouse</th>\n",
       "      <th>the quick</th>\n",
       "    </tr>\n",
       "  </thead>\n",
       "  <tbody>\n",
       "    <tr>\n",
       "      <th>0</th>\n",
       "      <td>0</td>\n",
       "      <td>0</td>\n",
       "      <td>1</td>\n",
       "      <td>1</td>\n",
       "      <td>0</td>\n",
       "      <td>0</td>\n",
       "      <td>0</td>\n",
       "      <td>0</td>\n",
       "      <td>1</td>\n",
       "      <td>1</td>\n",
       "      <td>...</td>\n",
       "      <td>1</td>\n",
       "      <td>1</td>\n",
       "      <td>1</td>\n",
       "      <td>0</td>\n",
       "      <td>0</td>\n",
       "      <td>2</td>\n",
       "      <td>0</td>\n",
       "      <td>1</td>\n",
       "      <td>0</td>\n",
       "      <td>1</td>\n",
       "    </tr>\n",
       "    <tr>\n",
       "      <th>1</th>\n",
       "      <td>1</td>\n",
       "      <td>1</td>\n",
       "      <td>0</td>\n",
       "      <td>0</td>\n",
       "      <td>1</td>\n",
       "      <td>1</td>\n",
       "      <td>1</td>\n",
       "      <td>1</td>\n",
       "      <td>0</td>\n",
       "      <td>0</td>\n",
       "      <td>...</td>\n",
       "      <td>0</td>\n",
       "      <td>0</td>\n",
       "      <td>0</td>\n",
       "      <td>1</td>\n",
       "      <td>1</td>\n",
       "      <td>2</td>\n",
       "      <td>1</td>\n",
       "      <td>0</td>\n",
       "      <td>1</td>\n",
       "      <td>0</td>\n",
       "    </tr>\n",
       "  </tbody>\n",
       "</table>\n",
       "<p>2 rows × 31 columns</p>\n",
       "</div>"
      ],
      "text/plain": [
       "   and  and it  brown  brown fox  cat  cat chases  chases  chases the  dog  \\\n",
       "0    0       0      1          1    0           0       0           0    1   \n",
       "1    1       1      0          0    1           1       1           1    0   \n",
       "\n",
       "   fox  ...  over the  quick  quick brown  squakes  squakes loudly  the  \\\n",
       "0    1  ...         1      1            1        0               0    2   \n",
       "1    0  ...         0      0            0        1               1    2   \n",
       "\n",
       "   the cat  the lazy  the mouse  the quick  \n",
       "0        0         1          0          1  \n",
       "1        1         0          1          0  \n",
       "\n",
       "[2 rows x 31 columns]"
      ]
     },
     "execution_count": 14,
     "metadata": {},
     "output_type": "execute_result"
    }
   ],
   "source": [
    "df = pd.DataFrame(x_vect.toarray(),columns=columns)\n",
    "\n",
    "df"
   ]
  },
  {
   "cell_type": "markdown",
   "id": "d8139da0",
   "metadata": {},
   "source": [
    "### 2.***TF-IDF_VECTORIZER***: -\n",
    "1. Similar to the count vectorization method, in the TF-IDF method, a document term matrix is generated and each column represents an individual unique word. T\n",
    "2. he difference in the TF-IDF method is that each cell doesn’t indicate the term frequency, but contains a weight value that signifies how important a word is for an individual text message or document"
   ]
  },
  {
   "cell_type": "code",
   "execution_count": 15,
   "id": "87562f82",
   "metadata": {},
   "outputs": [],
   "source": [
    "from sklearn.feature_extraction.text import TfidfVectorizer\n",
    "import pandas as pd"
   ]
  },
  {
   "cell_type": "code",
   "execution_count": 16,
   "id": "715ba4cc",
   "metadata": {},
   "outputs": [],
   "source": [
    "sentence1 = 'The quick brown fox jumps over the lazy dog.'\n",
    "sentence2 = 'The cat chases the mouse and it squakes loudly'"
   ]
  },
  {
   "cell_type": "code",
   "execution_count": 17,
   "id": "a35847b9",
   "metadata": {},
   "outputs": [],
   "source": [
    "tfidf = TfidfVectorizer(stop_words='english')\n",
    "\n",
    "x_vectr = tfidf.fit_transform([sentence1,sentence2])"
   ]
  },
  {
   "cell_type": "code",
   "execution_count": 18,
   "id": "ce4df388",
   "metadata": {},
   "outputs": [
    {
     "data": {
      "text/html": [
       "<div>\n",
       "<style scoped>\n",
       "    .dataframe tbody tr th:only-of-type {\n",
       "        vertical-align: middle;\n",
       "    }\n",
       "\n",
       "    .dataframe tbody tr th {\n",
       "        vertical-align: top;\n",
       "    }\n",
       "\n",
       "    .dataframe thead th {\n",
       "        text-align: right;\n",
       "    }\n",
       "</style>\n",
       "<table border=\"1\" class=\"dataframe\">\n",
       "  <thead>\n",
       "    <tr style=\"text-align: right;\">\n",
       "      <th></th>\n",
       "      <th>brown</th>\n",
       "      <th>cat</th>\n",
       "      <th>chases</th>\n",
       "      <th>dog</th>\n",
       "      <th>fox</th>\n",
       "      <th>jumps</th>\n",
       "      <th>lazy</th>\n",
       "      <th>loudly</th>\n",
       "      <th>mouse</th>\n",
       "      <th>quick</th>\n",
       "      <th>squakes</th>\n",
       "    </tr>\n",
       "  </thead>\n",
       "  <tbody>\n",
       "    <tr>\n",
       "      <th>0</th>\n",
       "      <td>0.408248</td>\n",
       "      <td>0.000000</td>\n",
       "      <td>0.000000</td>\n",
       "      <td>0.408248</td>\n",
       "      <td>0.408248</td>\n",
       "      <td>0.408248</td>\n",
       "      <td>0.408248</td>\n",
       "      <td>0.000000</td>\n",
       "      <td>0.000000</td>\n",
       "      <td>0.408248</td>\n",
       "      <td>0.000000</td>\n",
       "    </tr>\n",
       "    <tr>\n",
       "      <th>1</th>\n",
       "      <td>0.000000</td>\n",
       "      <td>0.447214</td>\n",
       "      <td>0.447214</td>\n",
       "      <td>0.000000</td>\n",
       "      <td>0.000000</td>\n",
       "      <td>0.000000</td>\n",
       "      <td>0.000000</td>\n",
       "      <td>0.447214</td>\n",
       "      <td>0.447214</td>\n",
       "      <td>0.000000</td>\n",
       "      <td>0.447214</td>\n",
       "    </tr>\n",
       "  </tbody>\n",
       "</table>\n",
       "</div>"
      ],
      "text/plain": [
       "      brown       cat    chases       dog       fox     jumps      lazy  \\\n",
       "0  0.408248  0.000000  0.000000  0.408248  0.408248  0.408248  0.408248   \n",
       "1  0.000000  0.447214  0.447214  0.000000  0.000000  0.000000  0.000000   \n",
       "\n",
       "     loudly     mouse     quick   squakes  \n",
       "0  0.000000  0.000000  0.408248  0.000000  \n",
       "1  0.447214  0.447214  0.000000  0.447214  "
      ]
     },
     "execution_count": 18,
     "metadata": {},
     "output_type": "execute_result"
    }
   ],
   "source": [
    "df = pd.DataFrame(x_vectr.toarray(), columns=tfidf.get_feature_names_out())\n",
    "\n",
    "df"
   ]
  },
  {
   "cell_type": "markdown",
   "id": "ecc9d80c",
   "metadata": {},
   "source": [
    "### 3. TF-IDF Transformer"
   ]
  },
  {
   "cell_type": "code",
   "execution_count": 19,
   "id": "3b2697bb",
   "metadata": {},
   "outputs": [],
   "source": [
    "from sklearn.feature_extraction.text import TfidfTransformer\n",
    "from sklearn.feature_extraction.text import CountVectorizer\n",
    "import pandas as pd"
   ]
  },
  {
   "cell_type": "code",
   "execution_count": 20,
   "id": "076127ae",
   "metadata": {},
   "outputs": [],
   "source": [
    "sentence1 = 'The quick brown fox jumps over the lazy dog.'\n",
    "sentence2 = 'The cat chases the mouse and it squakes loudly'"
   ]
  },
  {
   "cell_type": "code",
   "execution_count": 21,
   "id": "f8fcf79b",
   "metadata": {},
   "outputs": [],
   "source": [
    "cv = CountVectorizer()\n",
    "word_vector = cv.fit_transform([sentence1,sentence2])"
   ]
  },
  {
   "cell_type": "code",
   "execution_count": 22,
   "id": "57545fdb",
   "metadata": {},
   "outputs": [],
   "source": [
    "tfidf = TfidfTransformer()\n",
    "x = tfidf.fit_transform(word_vector)"
   ]
  },
  {
   "cell_type": "code",
   "execution_count": 23,
   "id": "f736ead0",
   "metadata": {},
   "outputs": [
    {
     "data": {
      "text/html": [
       "<div>\n",
       "<style scoped>\n",
       "    .dataframe tbody tr th:only-of-type {\n",
       "        vertical-align: middle;\n",
       "    }\n",
       "\n",
       "    .dataframe tbody tr th {\n",
       "        vertical-align: top;\n",
       "    }\n",
       "\n",
       "    .dataframe thead th {\n",
       "        text-align: right;\n",
       "    }\n",
       "</style>\n",
       "<table border=\"1\" class=\"dataframe\">\n",
       "  <thead>\n",
       "    <tr style=\"text-align: right;\">\n",
       "      <th></th>\n",
       "      <th>and</th>\n",
       "      <th>brown</th>\n",
       "      <th>cat</th>\n",
       "      <th>chases</th>\n",
       "      <th>dog</th>\n",
       "      <th>fox</th>\n",
       "      <th>it</th>\n",
       "      <th>jumps</th>\n",
       "      <th>lazy</th>\n",
       "      <th>loudly</th>\n",
       "      <th>mouse</th>\n",
       "      <th>over</th>\n",
       "      <th>quick</th>\n",
       "      <th>squakes</th>\n",
       "      <th>the</th>\n",
       "    </tr>\n",
       "  </thead>\n",
       "  <tbody>\n",
       "    <tr>\n",
       "      <th>0</th>\n",
       "      <td>0.000000</td>\n",
       "      <td>0.332872</td>\n",
       "      <td>0.000000</td>\n",
       "      <td>0.000000</td>\n",
       "      <td>0.332872</td>\n",
       "      <td>0.332872</td>\n",
       "      <td>0.000000</td>\n",
       "      <td>0.332872</td>\n",
       "      <td>0.332872</td>\n",
       "      <td>0.000000</td>\n",
       "      <td>0.000000</td>\n",
       "      <td>0.332872</td>\n",
       "      <td>0.332872</td>\n",
       "      <td>0.000000</td>\n",
       "      <td>0.473682</td>\n",
       "    </tr>\n",
       "    <tr>\n",
       "      <th>1</th>\n",
       "      <td>0.332872</td>\n",
       "      <td>0.000000</td>\n",
       "      <td>0.332872</td>\n",
       "      <td>0.332872</td>\n",
       "      <td>0.000000</td>\n",
       "      <td>0.000000</td>\n",
       "      <td>0.332872</td>\n",
       "      <td>0.000000</td>\n",
       "      <td>0.000000</td>\n",
       "      <td>0.332872</td>\n",
       "      <td>0.332872</td>\n",
       "      <td>0.000000</td>\n",
       "      <td>0.000000</td>\n",
       "      <td>0.332872</td>\n",
       "      <td>0.473682</td>\n",
       "    </tr>\n",
       "  </tbody>\n",
       "</table>\n",
       "</div>"
      ],
      "text/plain": [
       "        and     brown       cat    chases       dog       fox        it  \\\n",
       "0  0.000000  0.332872  0.000000  0.000000  0.332872  0.332872  0.000000   \n",
       "1  0.332872  0.000000  0.332872  0.332872  0.000000  0.000000  0.332872   \n",
       "\n",
       "      jumps      lazy    loudly     mouse      over     quick   squakes  \\\n",
       "0  0.332872  0.332872  0.000000  0.000000  0.332872  0.332872  0.000000   \n",
       "1  0.000000  0.000000  0.332872  0.332872  0.000000  0.000000  0.332872   \n",
       "\n",
       "        the  \n",
       "0  0.473682  \n",
       "1  0.473682  "
      ]
     },
     "execution_count": 23,
     "metadata": {},
     "output_type": "execute_result"
    }
   ],
   "source": [
    "df = pd.DataFrame(x.toarray(),columns=cv.get_feature_names_out())\n",
    "df"
   ]
  },
  {
   "cell_type": "code",
   "execution_count": null,
   "id": "11f69a86",
   "metadata": {},
   "outputs": [],
   "source": []
  }
 ],
 "metadata": {
  "kernelspec": {
   "display_name": "Python 3 (ipykernel)",
   "language": "python",
   "name": "python3"
  },
  "language_info": {
   "codemirror_mode": {
    "name": "ipython",
    "version": 3
   },
   "file_extension": ".py",
   "mimetype": "text/x-python",
   "name": "python",
   "nbconvert_exporter": "python",
   "pygments_lexer": "ipython3",
   "version": "3.11.5"
  }
 },
 "nbformat": 4,
 "nbformat_minor": 5
}
