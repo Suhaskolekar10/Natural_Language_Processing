{
 "cells": [
  {
   "cell_type": "markdown",
   "id": "7b4751ca",
   "metadata": {},
   "source": [
    "### Word Sense Disambiguation (WSD) :-\n",
    "1. it is a subfield of Natural Language Processing (NLP) that involves determining the intended meaning of a word in a given context. It is the process of identifying the correct sense of a word from a set of possible senses, based on the context in which the word appears. \n",
    "2. WSD is important for natural language understanding and machine translation, as it can improve the accuracy of these tasks by providing more accurate word meanings.\n",
    "3. Many words in natural language have multiple meanings, and WSD aims to disambiguate the correct sense of a word in a particular context. \n",
    "    \n",
    "    For example, the word “bank” can have different meanings in the sentences “I deposited money in the bank” and “The boat went down the river bank”"
   ]
  },
  {
   "cell_type": "code",
   "execution_count": 1,
   "id": "27f901bb",
   "metadata": {},
   "outputs": [],
   "source": [
    "from nltk.wsd import lesk\n",
    "from nltk.tokenize import word_tokenize"
   ]
  },
  {
   "cell_type": "code",
   "execution_count": 2,
   "id": "746c88e7",
   "metadata": {},
   "outputs": [],
   "source": [
    "a1=lesk(word_tokenize('This device is used to jam the signal'),'jam')"
   ]
  },
  {
   "cell_type": "code",
   "execution_count": 3,
   "id": "3b465239",
   "metadata": {},
   "outputs": [
    {
     "data": {
      "text/plain": [
       "'deliberate radiation or reflection of electromagnetic energy for the purpose of disrupting enemy use of electronic devices or systems'"
      ]
     },
     "execution_count": 3,
     "metadata": {},
     "output_type": "execute_result"
    }
   ],
   "source": [
    "a1.definition()"
   ]
  },
  {
   "cell_type": "code",
   "execution_count": 4,
   "id": "ed85455c",
   "metadata": {},
   "outputs": [
    {
     "data": {
      "text/plain": [
       "'get stuck and immobilized'"
      ]
     },
     "execution_count": 4,
     "metadata": {},
     "output_type": "execute_result"
    }
   ],
   "source": [
    "a2=lesk(word_tokenize('I am stuck in a traffic jam'),'jam')\n",
    "a2.definition()"
   ]
  },
  {
   "cell_type": "code",
   "execution_count": 5,
   "id": "3f348e15",
   "metadata": {},
   "outputs": [
    {
     "data": {
      "text/plain": [
       "'travel from place to place, as for the purpose of finding work, preaching, or acting as a judge'"
      ]
     },
     "execution_count": 5,
     "metadata": {},
     "output_type": "execute_result"
    }
   ],
   "source": [
    "a3=lesk(word_tokenize('The ganges is travelling through himalayas'),'travelling')\n",
    "a3.definition()"
   ]
  },
  {
   "cell_type": "code",
   "execution_count": 6,
   "id": "624bff15",
   "metadata": {},
   "outputs": [
    {
     "name": "stdout",
     "output_type": "stream",
     "text": [
      "Synset('season.v.01') lend flavor to\n",
      "Synset('season.n.01') a period of the year marked by special events or activities in some field\n"
     ]
    }
   ],
   "source": [
    "b1=lesk(word_tokenize('Apply spices to the chicken to season it'),'season')\n",
    "print(b1,b1.definition())     \n",
    "\n",
    "b2=lesk(word_tokenize('India receives a lot of rain in the rainy season'),'season')\n",
    "print(b2,b2.definition())"
   ]
  },
  {
   "cell_type": "code",
   "execution_count": 7,
   "id": "fefcc2f0",
   "metadata": {},
   "outputs": [
    {
     "name": "stdout",
     "output_type": "stream",
     "text": [
      "Synset('powered.a.01') (often used in combination) having or using or propelled by means of power or power of a specified kind\n"
     ]
    }
   ],
   "source": [
    "b3=lesk(word_tokenize('Virat Kohli is Over Powered of all time'),'Powered')\n",
    "print(b3,b3.definition())"
   ]
  },
  {
   "cell_type": "code",
   "execution_count": null,
   "id": "883a8f1e",
   "metadata": {},
   "outputs": [],
   "source": []
  }
 ],
 "metadata": {
  "kernelspec": {
   "display_name": "Python 3 (ipykernel)",
   "language": "python",
   "name": "python3"
  },
  "language_info": {
   "codemirror_mode": {
    "name": "ipython",
    "version": 3
   },
   "file_extension": ".py",
   "mimetype": "text/x-python",
   "name": "python",
   "nbconvert_exporter": "python",
   "pygments_lexer": "ipython3",
   "version": "3.11.5"
  }
 },
 "nbformat": 4,
 "nbformat_minor": 5
}
