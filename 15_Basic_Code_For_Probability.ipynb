{
 "cells": [
  {
   "cell_type": "code",
   "execution_count": 1,
   "id": "0d7f6064",
   "metadata": {},
   "outputs": [],
   "source": [
    "import numpy as np\n",
    "import random\n",
    "from collections import Counter"
   ]
  },
  {
   "cell_type": "code",
   "execution_count": 2,
   "id": "e095ebda",
   "metadata": {},
   "outputs": [
    {
     "name": "stdout",
     "output_type": "stream",
     "text": [
      "probabiity of head:- 0.5\n"
     ]
    }
   ],
   "source": [
    "sample_space =  ['head','tail']\n",
    "\n",
    "#For theoretical probability\n",
    "occurance = random.choice(sample_space)\n",
    "\n",
    "if occurance =='head':\n",
    "    print('probabiity of head:-',1/len(sample_space))\n",
    "else:\n",
    "    print('probability of tail:',1/len(sample_space))"
   ]
  },
  {
   "cell_type": "code",
   "execution_count": 3,
   "id": "e96d5d8b",
   "metadata": {},
   "outputs": [
    {
     "name": "stdout",
     "output_type": "stream",
     "text": [
      "probability for head: 0.49504950495049505\n",
      "probability for head: 0.504950495049505\n"
     ]
    }
   ],
   "source": [
    "#now for 100 tosses:-\n",
    "lst =  []\n",
    "for i in range(0,101):\n",
    "    occurance = random.choice(sample_space)\n",
    "    lst.append(occurance)\n",
    "\n",
    "print('probability for head:',lst.count('head')/len(lst))\n",
    "print('probability for head:',lst.count('tail')/len(lst))"
   ]
  },
  {
   "cell_type": "code",
   "execution_count": 4,
   "id": "3ffaa007",
   "metadata": {},
   "outputs": [
    {
     "name": "stdout",
     "output_type": "stream",
     "text": [
      "Theoretical probability of rolling a_6:- 0.16666666666666666\n",
      "Experimental probability of rolling a_6_exp:- 0.161\n"
     ]
    }
   ],
   "source": [
    "#number of sides on the dice\n",
    "n_sides = 6\n",
    "\n",
    "rolls = [np.random.randint(1,7) for _ in range(1000)]\n",
    "\n",
    "counts = Counter(rolls)\n",
    "\n",
    "p_6 = 1/n_sides\n",
    "\n",
    "#calculate the experimental probability of rolling a 6\n",
    "p_6_exp = counts[6] /len(rolls)\n",
    "\n",
    "print('Theoretical probability of rolling a_6:-',p_6)\n",
    "print('Experimental probability of rolling a_6_exp:-',p_6_exp)"
   ]
  },
  {
   "cell_type": "code",
   "execution_count": null,
   "id": "62d3533b",
   "metadata": {},
   "outputs": [],
   "source": []
  }
 ],
 "metadata": {
  "kernelspec": {
   "display_name": "Python 3 (ipykernel)",
   "language": "python",
   "name": "python3"
  },
  "language_info": {
   "codemirror_mode": {
    "name": "ipython",
    "version": 3
   },
   "file_extension": ".py",
   "mimetype": "text/x-python",
   "name": "python",
   "nbconvert_exporter": "python",
   "pygments_lexer": "ipython3",
   "version": "3.11.5"
  }
 },
 "nbformat": 4,
 "nbformat_minor": 5
}
