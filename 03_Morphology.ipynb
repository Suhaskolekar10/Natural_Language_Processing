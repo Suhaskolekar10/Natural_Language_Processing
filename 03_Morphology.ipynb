{
  "cells": [
    {
      "cell_type": "markdown",
      "id": "39b97e54",
      "metadata": {
        "id": "39b97e54"
      },
      "source": [
        "### Morphology:-\n",
        "\n",
        "1. Morphology in Natural Language Processing (NLP) is the study of the internal structure and functions of words, and how words are formed from smaller meaningful units called morphemes.\n",
        "2. Morphology is one of the central linguistic disciplines and is crucial in NLP for tasks such as spell checkers, machine translation, and text analysis.\n",
        "3. Morphemes are the smallest units of a language that carry meaning. They can be prefixes, suffixes, or roots.\n",
        "4. There are two types of morphology: *inflectional and derivational*.\n",
        "    \n",
        "    a. Inflectional morphology refers to the way words are formed by adding affixes, such as prefixes and suffixes.\n",
        "    \n",
        "    b. Derivational morphology, on the other hand, involves changing the meaning of a word by adding a prefix or suffix. For example, the word \"unhappy\" is derived from the word \"happy\" by adding the prefix \"un-\" .\n",
        "5. There are two main approaches to morphology in NLP: *word-based and lexeme-based*.\n",
        "    \n",
        "    a. Word-based morphology considers words as arrangements of morphemes,\n",
        "    \n",
        "    b. lexeme-based morphology views a word form as the result of applying rules to a stem .\n",
        "6. Morphology is also used in NLP for tasks such as ***stemming***, where the goal is to reduce words to their root form, and ***lemmatization***, where the goal is to reduce a word to its base or dictionary form.\n",
        "7. morphology plays a vital role in NLP by providing a way to analyze and understand the structure of words, which is crucial for tasks such as text analysis, machine translation, and language understanding."
      ]
    },
    {
      "cell_type": "code",
      "execution_count": 1,
      "id": "a38fb6b5",
      "metadata": {
        "colab": {
          "base_uri": "https://localhost:8080/"
        },
        "id": "a38fb6b5",
        "outputId": "fbf3a0a7-3a51-49a8-cd76-9f97d729909e"
      },
      "outputs": [
        {
          "output_type": "stream",
          "name": "stdout",
          "text": [
            "Collecting morfessor\n",
            "  Downloading Morfessor-2.0.6-py3-none-any.whl (35 kB)\n",
            "Collecting polyglot\n",
            "  Downloading polyglot-16.7.4.tar.gz (126 kB)\n",
            "\u001b[2K     \u001b[90m━━━━━━━━━━━━━━━━━━━━━━━━━━━━━━━━━━━━━━━━\u001b[0m \u001b[32m126.3/126.3 kB\u001b[0m \u001b[31m4.7 MB/s\u001b[0m eta \u001b[36m0:00:00\u001b[0m\n",
            "\u001b[?25h  Preparing metadata (setup.py) ... \u001b[?25l\u001b[?25hdone\n",
            "Collecting pyICU\n",
            "  Downloading PyICU-2.12.tar.gz (260 kB)\n",
            "\u001b[2K     \u001b[90m━━━━━━━━━━━━━━━━━━━━━━━━━━━━━━━━━━━━━━━━\u001b[0m \u001b[32m260.0/260.0 kB\u001b[0m \u001b[31m9.5 MB/s\u001b[0m eta \u001b[36m0:00:00\u001b[0m\n",
            "\u001b[?25h  Installing build dependencies ... \u001b[?25l\u001b[?25hdone\n",
            "  Getting requirements to build wheel ... \u001b[?25l\u001b[?25hdone\n",
            "  Preparing metadata (pyproject.toml) ... \u001b[?25l\u001b[?25hdone\n",
            "Collecting pycld2\n",
            "  Downloading pycld2-0.41.tar.gz (41.4 MB)\n",
            "\u001b[2K     \u001b[90m━━━━━━━━━━━━━━━━━━━━━━━━━━━━━━━━━━━━━━━━\u001b[0m \u001b[32m41.4/41.4 MB\u001b[0m \u001b[31m14.4 MB/s\u001b[0m eta \u001b[36m0:00:00\u001b[0m\n",
            "\u001b[?25h  Preparing metadata (setup.py) ... \u001b[?25l\u001b[?25hdone\n",
            "Building wheels for collected packages: polyglot, pyICU, pycld2\n",
            "  Building wheel for polyglot (setup.py) ... \u001b[?25l\u001b[?25hdone\n",
            "  Created wheel for polyglot: filename=polyglot-16.7.4-py2.py3-none-any.whl size=52558 sha256=fd7de8adcdcdcfe922bac83a52e0135acf844fb2713a1b226a563c76868b1130\n",
            "  Stored in directory: /root/.cache/pip/wheels/aa/92/4a/b172589446ba537db3bdb9a1f2204f27fe71217981c14ac368\n",
            "  Building wheel for pyICU (pyproject.toml) ... \u001b[?25l\u001b[?25hdone\n",
            "  Created wheel for pyICU: filename=PyICU-2.12-cp310-cp310-linux_x86_64.whl size=1754545 sha256=fa9dbb57ac3f0398b84c355843f94dbdf7365b593e17b065703abf42b5e1fd7b\n",
            "  Stored in directory: /root/.cache/pip/wheels/74/60/95/66d97ac2fdc8be8e526c4254047405fe77feaf064282d1ad07\n",
            "  Building wheel for pycld2 (setup.py) ... \u001b[?25l\u001b[?25hdone\n",
            "  Created wheel for pycld2: filename=pycld2-0.41-cp310-cp310-linux_x86_64.whl size=9904069 sha256=939e6e78844c0037260919b7a16afbf2e77f32d8657b338320a94b2c618f7e8f\n",
            "  Stored in directory: /root/.cache/pip/wheels/be/81/31/240c89c845e008a93d98542325270007de595bfd356eb0b06c\n",
            "Successfully built polyglot pyICU pycld2\n",
            "Installing collected packages: pyICU, pycld2, polyglot, morfessor\n",
            "Successfully installed morfessor-2.0.6 polyglot-16.7.4 pyICU-2.12 pycld2-0.41\n"
          ]
        }
      ],
      "source": [
        "!pip install morfessor polyglot pyICU pycld2     #pyICU AND pycld2 is requied to run these"
      ]
    },
    {
      "cell_type": "code",
      "execution_count": 2,
      "id": "51abaefd",
      "metadata": {
        "colab": {
          "base_uri": "https://localhost:8080/"
        },
        "id": "51abaefd",
        "outputId": "39745972-3073-45f6-e620-ba5f1738cbb2"
      },
      "outputs": [
        {
          "output_type": "stream",
          "name": "stdout",
          "text": [
            "[polyglot_data] Downloading package morph2.en to\n",
            "[polyglot_data]     /root/polyglot_data...\n",
            "[polyglot_data] Downloading package morph2.mr to\n",
            "[polyglot_data]     /root/polyglot_data...\n",
            "[polyglot_data] Downloading package morph2.ru to\n",
            "[polyglot_data]     /root/polyglot_data...\n"
          ]
        }
      ],
      "source": [
        "%%bash\n",
        "polyglot download morph2.en morph2.mr morph2.ru        #used to download the languages"
      ]
    },
    {
      "cell_type": "code",
      "execution_count": 3,
      "id": "6ae3cfaf",
      "metadata": {
        "colab": {
          "base_uri": "https://localhost:8080/"
        },
        "id": "6ae3cfaf",
        "outputId": "114c0871-5e85-4533-9d72-730992690dab"
      },
      "outputs": [
        {
          "output_type": "stream",
          "name": "stdout",
          "text": [
            "  1. Kapampangan                2. Italian                    3. Upper Sorbian            \n",
            "  4. Sakha                      5. Hindi                      6. French                   \n",
            "  7. Spanish; Castilian         8. Vietnamese                 9. Arabic                   \n",
            " 10. Macedonian                11. Pashto, Pushto            12. Bosnian-Croatian-Serbian \n",
            " 13. Egyptian Arabic           14. Norwegian Nynorsk         15. Sundanese                \n",
            " 16. Sicilian                  17. Azerbaijani               18. Bulgarian                \n",
            " 19. Yoruba                    20. Tajik                     21. Georgian                 \n",
            " 22. Tatar                     23. Galician                  24. Malagasy                 \n",
            " 25. Uighur, Uyghur            26. Amharic                   27. Venetian                 \n",
            " 28. Yiddish                   29. Norwegian                 30. Alemannic                \n",
            " 31. Estonian                  32. West Flemish              33. Divehi; Dhivehi; Mald... \n",
            " 34. Japanese                  35. Ilokano                   36. Haitian; Haitian Creole  \n",
            " 37. Belarusian                38. Greek, Modern             39. Ossetian, Ossetic        \n",
            " 40. Welsh                     41. Malayalam                 42. Albanian                 \n",
            " 43. Marathi (Marāṭhī)         44. Armenian                  45. Slovene                  \n",
            " 46. Korean                    47. Breton                    48. Irish                    \n",
            " 49. Luxembourgish, Letzeb...  50. Bengali                   51. Serbian                  \n",
            " 52. Fiji Hindi                53. Javanese                  54. Finnish                  \n",
            " 55. Gan Chinese               56. Kirghiz, Kyrgyz           57. Catalan; Valencian       \n",
            " 58. Quechua                   59. Croatian                  60. Dutch                    \n",
            " 61. Swedish                   62. Ido                       63. Tagalog                  \n",
            " 64. Sanskrit (Saṁskṛta)       65. Piedmontese language      66. Asturian                 \n",
            " 67. Danish                    68. Cebuano                   69. Western Frisian          \n",
            " 70. Kannada                   71. Scots                     72. Maltese                  \n",
            " 73. Swahili                   74. Limburgish, Limburgan...  75. Waray-Waray              \n",
            " 76. Lombard language          77. Uzbek                     78. Kurdish                  \n",
            " 79. Latvian                   80. Burmese                   81. Aragonese                \n",
            " 82. Volapük                   83. Northern Sami             84. Faroese                  \n",
            " 85. Kazakh                    86. Telugu                    87. Ukrainian                \n",
            " 88. Assamese                  89. Chuvash                   90. Silesian                 \n",
            " 91. Turkmen                   92. Romanian, Moldavian, ...  93. Persian                  \n",
            " 94. Tibetan Standard, Tib...  95. Latin                     96. Slovak                   \n",
            " 97. Sinhala, Sinhalese        98. Bavarian                  99. Icelandic                \n",
            "100. Mongolian                101. Walloon                  102. Portuguese               \n",
            "103. Urdu                     104. Gujarati                 105. Manx                     \n",
            "106. Tamil                    107. Khmer                    108. English                  \n",
            "109. Malay                    110. Chechen                  111. Bishnupriya Manipuri     \n",
            "112. Afrikaans                113. Basque                   114. Polish                   \n",
            "115. German                   116. Esperanto                117. Indonesian               \n",
            "118. Occitan                  119. Chinese                  120. Czech                    \n",
            "121. Hebrew (modern)          122. Romansh                  123. Lithuanian               \n",
            "124. Turkish                  125. Nepali                   126. Bosnian                  \n",
            "127. Interlingua              128. Zazaki                   129. Oriya                    \n",
            "130. Hungarian                131. Scottish Gaelic; Gaelic  132. Bashkir                  \n",
            "133. Thai                     134. Panjabi, Punjabi         135. Russian                  \n",
            "\n"
          ]
        }
      ],
      "source": [
        "from polyglot.downloader import downloader\n",
        "print(downloader.supported_languages_table(\"morph2\"))     #it supports 135 languages"
      ]
    },
    {
      "cell_type": "code",
      "execution_count": 4,
      "id": "bb20e038",
      "metadata": {
        "id": "bb20e038"
      },
      "outputs": [],
      "source": [
        "from polyglot.text import Text, Word"
      ]
    },
    {
      "cell_type": "code",
      "execution_count": 6,
      "id": "6edfb3e6",
      "metadata": {
        "colab": {
          "base_uri": "https://localhost:8080/"
        },
        "id": "6edfb3e6",
        "outputId": "9730c838-318f-4a33-ba37-51b20fcaf948"
      },
      "outputs": [
        {
          "output_type": "stream",
          "name": "stdout",
          "text": [
            "cats \t\t ['cat', 's']\n",
            "computing \t\t ['com', 'put', 'ing']\n",
            "association \t\t ['associ', 'ation']\n",
            "programming \t\t ['program', 'ming']\n",
            "leadership \t\t ['leader', 'ship']\n",
            "miscommunication \t\t ['mis', 'communication']\n",
            "communication \t\t ['communication']\n",
            "identifiable \t\t ['identif', 'i', 'able']\n",
            "psychologically \t\t ['psycho', 'logical', 'ly']\n",
            "engneering \t\t ['en', 'g', 'ne', 'er', 'ing']\n",
            "tabular \t\t ['tab', 'ular']\n",
            "realistic \t\t ['real', 'istic']\n",
            "colorfulness \t\t ['color', 'ful', 'ness']\n",
            "loveable \t\t ['love', 'able']\n"
          ]
        }
      ],
      "source": [
        "words = ['cats','computing','association','programming','leadership','miscommunication','communication','identifiable',\n",
        "        'psychologically','engneering','tabular','realistic','colorfulness','loveable']\n",
        "\n",
        "for word in words:\n",
        "    w = Word(word, language=\"en\")\n",
        "    print(w,'\\t\\t',w.morphemes)"
      ]
    },
    {
      "cell_type": "code",
      "source": [
        "words = ['प्रामाणिकपणा','जलविदुत','इतिहास','रविवार','मानवशास्त्र','जलतरण','मदन','यशोधन','आदित्य','']\n",
        "for w in words:\n",
        "    w = Word(w, language=\"mr\")\n",
        "    print(w, '\\t\\t',w.morphemes)"
      ],
      "metadata": {
        "colab": {
          "base_uri": "https://localhost:8080/"
        },
        "id": "3-7aecBjz_xP",
        "outputId": "3d29db46-2164-4962-9ec2-94c1b51da92e"
      },
      "id": "3-7aecBjz_xP",
      "execution_count": 7,
      "outputs": [
        {
          "output_type": "stream",
          "name": "stdout",
          "text": [
            "प्रामाणिकपणा \t\t ['प्रा', 'माणिक', 'पणा']\n",
            "जलविदुत \t\t ['जल', 'वि', 'दु', 'त']\n",
            "इतिहास \t\t ['इतिहास']\n",
            "रविवार \t\t ['रवि', 'वार']\n",
            "मानवशास्त्र \t\t ['मानव', 'शास्त्र']\n",
            "जलतरण \t\t ['जलतरण']\n",
            "मदन \t\t ['मदन']\n",
            "यशोधन \t\t ['य', 'शोध', 'न']\n",
            "आदित्य \t\t ['आदि', 'त्य']\n",
            " \t\t []\n"
          ]
        }
      ]
    },
    {
      "cell_type": "code",
      "source": [
        "words = ['хонэст','секюрэ','сахиль','мадан','сухас','адитья']\n",
        "for w in words:\n",
        "    w = Word(w, language=\"ru\")\n",
        "    print(w, '\\t\\t',w.morphemes)"
      ],
      "metadata": {
        "colab": {
          "base_uri": "https://localhost:8080/"
        },
        "id": "4p_KnXZJ1xNv",
        "outputId": "cae323df-ba0a-447a-f2f7-5c245f1af729"
      },
      "id": "4p_KnXZJ1xNv",
      "execution_count": 8,
      "outputs": [
        {
          "output_type": "stream",
          "name": "stdout",
          "text": [
            "хонэст \t\t ['х', 'он', 'эст']\n",
            "секюрэ \t\t ['сек', 'ю', 'р', 'э']\n",
            "сахиль \t\t ['с', 'ах', 'иль']\n",
            "мадан \t\t ['м', 'а', 'дан']\n",
            "сухас \t\t ['сух', 'а', 'с']\n",
            "адитья \t\t ['а', 'д', 'ить', 'я']\n"
          ]
        }
      ]
    },
    {
      "cell_type": "code",
      "source": [
        "st = \"Wewillmeettoday.\"\n",
        "text = Text(st)\n",
        "text.language=\"en\"\n",
        "\n",
        "text.morphemes"
      ],
      "metadata": {
        "colab": {
          "base_uri": "https://localhost:8080/"
        },
        "id": "vWUOjUfG130W",
        "outputId": "f84b3bd8-190f-4531-9c8d-ba856e0100d9"
      },
      "id": "vWUOjUfG130W",
      "execution_count": 10,
      "outputs": [
        {
          "output_type": "execute_result",
          "data": {
            "text/plain": [
              "WordList(['We', 'will', 'meet', 'to', 'day', '.'])"
            ]
          },
          "metadata": {},
          "execution_count": 10
        }
      ]
    },
    {
      "cell_type": "code",
      "source": [],
      "metadata": {
        "id": "Y7DAawVl17zu"
      },
      "id": "Y7DAawVl17zu",
      "execution_count": null,
      "outputs": []
    }
  ],
  "metadata": {
    "kernelspec": {
      "display_name": "Python 3 (ipykernel)",
      "language": "python",
      "name": "python3"
    },
    "language_info": {
      "codemirror_mode": {
        "name": "ipython",
        "version": 3
      },
      "file_extension": ".py",
      "mimetype": "text/x-python",
      "name": "python",
      "nbconvert_exporter": "python",
      "pygments_lexer": "ipython3",
      "version": "3.11.5"
    },
    "colab": {
      "provenance": []
    }
  },
  "nbformat": 4,
  "nbformat_minor": 5
}