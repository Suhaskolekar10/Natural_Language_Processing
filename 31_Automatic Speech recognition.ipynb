{
 "cells": [
  {
   "cell_type": "code",
   "execution_count": 1,
   "id": "a04784db",
   "metadata": {},
   "outputs": [],
   "source": [
    "# Install the libraries: - "
   ]
  },
  {
   "cell_type": "code",
   "execution_count": 2,
   "id": "737aa3f1",
   "metadata": {},
   "outputs": [
    {
     "name": "stdout",
     "output_type": "stream",
     "text": [
      "Requirement already satisfied: Speechrecognition in /home/dai/anaconda3/lib/python3.11/site-packages (3.10.1)\r\n",
      "Requirement already satisfied: requests>=2.26.0 in /home/dai/anaconda3/lib/python3.11/site-packages (from Speechrecognition) (2.31.0)\r\n",
      "Requirement already satisfied: typing-extensions in /home/dai/anaconda3/lib/python3.11/site-packages (from Speechrecognition) (4.8.0)\r\n",
      "Requirement already satisfied: charset-normalizer<4,>=2 in /home/dai/anaconda3/lib/python3.11/site-packages (from requests>=2.26.0->Speechrecognition) (2.0.4)\r\n",
      "Requirement already satisfied: idna<4,>=2.5 in /home/dai/anaconda3/lib/python3.11/site-packages (from requests>=2.26.0->Speechrecognition) (3.4)\r\n",
      "Requirement already satisfied: urllib3<3,>=1.21.1 in /home/dai/anaconda3/lib/python3.11/site-packages (from requests>=2.26.0->Speechrecognition) (1.26.18)\r\n",
      "Requirement already satisfied: certifi>=2017.4.17 in /home/dai/anaconda3/lib/python3.11/site-packages (from requests>=2.26.0->Speechrecognition) (2023.11.17)\r\n"
     ]
    }
   ],
   "source": [
    "!pip install Speechrecognition \n"
   ]
  },
  {
   "cell_type": "code",
   "execution_count": 3,
   "id": "f48dfca4",
   "metadata": {},
   "outputs": [
    {
     "name": "stdout",
     "output_type": "stream",
     "text": [
      "Requirement already satisfied: Pyaudio in /home/dai/anaconda3/lib/python3.11/site-packages (0.2.11)\r\n"
     ]
    }
   ],
   "source": [
    "!pip install Pyaudio\n",
    "   #conda install Pyaudio     :run this in terminal forst\n"
   ]
  },
  {
   "cell_type": "code",
   "execution_count": 4,
   "id": "aa566c72",
   "metadata": {},
   "outputs": [
    {
     "name": "stdout",
     "output_type": "stream",
     "text": [
      "Collecting sounddevice\n",
      "  Downloading sounddevice-0.4.6-py3-none-any.whl (31 kB)\n",
      "Requirement already satisfied: CFFI>=1.0 in /home/dai/anaconda3/lib/python3.11/site-packages (from sounddevice) (1.15.1)\n",
      "Requirement already satisfied: pycparser in /home/dai/anaconda3/lib/python3.11/site-packages (from CFFI>=1.0->sounddevice) (2.21)\n",
      "Installing collected packages: sounddevice\n",
      "Successfully installed sounddevice-0.4.6\n"
     ]
    }
   ],
   "source": [
    "!pip install sounddevice"
   ]
  },
  {
   "cell_type": "code",
   "execution_count": 28,
   "id": "c6b4a497",
   "metadata": {},
   "outputs": [],
   "source": [
    "import speech_recognition as sr\n",
    "import sounddevice"
   ]
  },
  {
   "cell_type": "code",
   "execution_count": 29,
   "id": "bf3b18d5",
   "metadata": {},
   "outputs": [],
   "source": [
    "r = sr.Recognizer()"
   ]
  },
  {
   "cell_type": "code",
   "execution_count": 31,
   "id": "259b341f",
   "metadata": {},
   "outputs": [
    {
     "name": "stdout",
     "output_type": "stream",
     "text": [
      "speak:\n",
      "You said: Hello Suhas\n"
     ]
    }
   ],
   "source": [
    "with sr.Microphone() as source:\n",
    "    print('speak:')\n",
    "    audio = r.listen(source)\n",
    "    print('You said:',r.recognize_google(audio))"
   ]
  },
  {
   "cell_type": "code",
   "execution_count": null,
   "id": "1d06f5f1",
   "metadata": {},
   "outputs": [],
   "source": []
  }
 ],
 "metadata": {
  "kernelspec": {
   "display_name": "Python 3 (ipykernel)",
   "language": "python",
   "name": "python3"
  },
  "language_info": {
   "codemirror_mode": {
    "name": "ipython",
    "version": 3
   },
   "file_extension": ".py",
   "mimetype": "text/x-python",
   "name": "python",
   "nbconvert_exporter": "python",
   "pygments_lexer": "ipython3",
   "version": "3.11.5"
  }
 },
 "nbformat": 4,
 "nbformat_minor": 5
}
